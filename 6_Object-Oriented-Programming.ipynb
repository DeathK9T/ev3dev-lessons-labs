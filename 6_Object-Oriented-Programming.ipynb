{
 "cells": [
  {
   "cell_type": "markdown",
   "metadata": {},
   "source": [
    "# Объектно-ориентированное программирование в Python."
   ]
  },
  {
   "cell_type": "markdown",
   "metadata": {},
   "source": [
    "## 1. Что такое объектно-ориентированное программирование (ООП)?"
   ]
  },
  {
   "cell_type": "markdown",
   "metadata": {},
   "source": [
    "**Объектно-ориентированное программирование (ООП)** - это парадигма программирования, в которой программа организуется вокруг объектов, которые представляют собой экземпляры классов. ООП способствует созданию модульных, гибких и понятных программ."
   ]
  },
  {
   "cell_type": "markdown",
   "metadata": {},
   "source": [
    "Основная идея ООП состоит в том, что программа рассматривается как набор объектов, которые взаимодействуют между собой. Объекты являются основными строительными блоками в ООП. Каждый объект представляет собой экземпляр класса."
   ]
  },
  {
   "cell_type": "markdown",
   "metadata": {},
   "source": [
    "* **Классы (Classes):** Классы - это шаблоны или чертежи, по которым создаются объекты. Класс определяет **атрибуты _(переменные)_** и **методы _(функции)_**, которые могут быть применены к объектам этого класса. К примеру, если рассматривать класс `\"Собака\"`, то **атрибутами** могут быть `\"имя\"`, `\"возраст\"`, `\"порода\"`, а **методами** - `\"лаять\"`, `\"кушать\"` и т.д.\n",
    "\n",
    "* **Объекты (Objects):** Объекты - это конкретные экземпляры классов, созданные на основе определенного класса. Каждый объект обладает своим собственным набором атрибутов и может использовать методы, определенные в классе."
   ]
  },
  {
   "cell_type": "markdown",
   "metadata": {},
   "source": [
    "## 2. Основные принципы ООП"
   ]
  },
  {
   "cell_type": "markdown",
   "metadata": {},
   "source": [
    "ООП опирается на четыре основных принципа:"
   ]
  },
  {
   "cell_type": "markdown",
   "metadata": {},
   "source": [
    "### **Инкапсуляция (Encapsulation):**"
   ]
  },
  {
   "cell_type": "markdown",
   "metadata": {},
   "source": [
    "Это принцип, по которому классы ограничивают доступ к своим данным и методам. Они скрывают свою реализацию от внешнего мира и предоставляют интерфейс для взаимодействия с ними. Это позволяет изолировать детали реализации и обеспечить безопасность кода."
   ]
  },
  {
   "cell_type": "markdown",
   "metadata": {},
   "source": [
    "Инкапсуляция позволяет в максимальной степени изолировать объект от внешнего окружения. Она существенно повышает надежность разрабатываемых программ, т.к. локализованные в объекте алгоритмы обмениваются с программой сравнительно небольшими объемами данных, причем количество и тип этих данных обычно тщательно контролируются. В результате замена или модификация алгоритмов и данных, инкапсулированных в объект, как правило, не влечет за собой плохо прослеживаемых последствий для программы в целом (в целях повышения защищенности программ в ООП почти не используются глобальные переменные)."
   ]
  },
  {
   "cell_type": "markdown",
   "metadata": {},
   "source": [
    "### **Наследование (Inheritance):**"
   ]
  },
  {
   "cell_type": "markdown",
   "metadata": {},
   "source": [
    "Наследование позволяет создавать новые классы на основе уже существующих. Новый класс (подкласс или дочерний класс) может наследовать атрибуты и методы от существующего класса (родительского класса или суперкласса), а также расширять или изменять их. Это способствует повторному использованию кода и упрощает его поддержку и расширение."
   ]
  },
  {
   "cell_type": "markdown",
   "metadata": {},
   "source": [
    "Принцип наследования решает проблему модификации свойств объекта и придает ООП в целом исключительную гибкость. При работе с объектами программист обычно подбирает объект, наиболее близкий по своим свойствам для решения конкретной задачи, и создает одного или нескольких потомков от него, которые «умеют» делать то, что не реализовано в родителе."
   ]
  },
  {
   "cell_type": "markdown",
   "metadata": {},
   "source": [
    "Последовательное проведение в жизнь принципа «наследуй и изменяй» хорошо согласуется с поэтапным подходом к разработке крупных программных проектов и во многом стимулирует такой подход."
   ]
  },
  {
   "cell_type": "markdown",
   "metadata": {},
   "source": [
    "### **Полиморфизм (Polymorphism):**"
   ]
  },
  {
   "cell_type": "markdown",
   "metadata": {},
   "source": [
    "Полиморфизм позволяет объектам с одинаковым интерфейсом вести себя по-разному в зависимости от контекста. Это означает, что разные классы могут иметь методы с одинаковыми именами, но с разной реализацией. Полиморфизм позволяет использовать общий интерфейс для работы с разными типами объектов."
   ]
  },
  {
   "cell_type": "markdown",
   "metadata": {},
   "source": [
    "В рамках ООП поведенческие свойства объекта определяются набором входящих в него методов. Изменяя алгоритм того или иного метода в потомках объекта, программист может придавать этим потомкам отсутствующие у родителя специфические свойства. Для изменения метода необходимо перекрыть его в потомке, т.е. объявить в потомке одноименный метод и реализовать в нем нужные действия. В результате в объекте-родителе и объекте-потомке будут действовать два одноименных метода, имеющие разную алгоритмическую основу и, следовательно, придающие объектам разные свойства."
   ]
  },
  {
   "cell_type": "markdown",
   "metadata": {},
   "source": [
    "### **Абстракция данных (Data Abstraction):**"
   ]
  },
  {
   "cell_type": "markdown",
   "metadata": {},
   "source": [
    "Абстракция данных - это принцип, по которому скрываются детали реализации объектов и предоставляется только необходимая информация через интерфейс. Это позволяет концентрироваться на важных аспектах объектов и упрощает понимание, использование и поддержку кода."
   ]
  },
  {
   "cell_type": "markdown",
   "metadata": {},
   "source": [
    "Абстракция является основой объектно-ориентированного программирования и позволяет работать с объектами, не вдаваясь в особенности их реализации."
   ]
  },
  {
   "cell_type": "markdown",
   "metadata": {},
   "source": [
    "## 3. Преимущества ООП"
   ]
  },
  {
   "cell_type": "markdown",
   "metadata": {},
   "source": [
    "* **Модульность и структурированность кода:** ООП позволяет разбивать программу на небольшие модули, что упрощает её понимание, поддержку и расширение.\n",
    "\n",
    "* **Повторное использование кода:** Благодаря наследованию и полиморфизму, код можно повторно использовать, что уменьшает время разработки и улучшает его качество.\n",
    "\n",
    "* **Гибкость и расширяемость:** ООП обеспечивает гибкость и возможность легкого изменения и расширения функциональности программы путем добавления новых классов и методов."
   ]
  },
  {
   "cell_type": "markdown",
   "metadata": {},
   "source": [
    "## 4. Магические методы"
   ]
  },
  {
   "cell_type": "markdown",
   "metadata": {},
   "source": [
    "**Магические методы**, также известные как **\"специальные методы\"** или **\"dunder-методы\" *(double underscore methods)***, в Python - это специальные методы, которые начинаются и заканчиваются двумя подчеркиваниями *(__)*. Они позволяют переопределять стандартное поведение операторов и встроенных функций для объектов вашего класса."
   ]
  },
  {
   "cell_type": "markdown",
   "metadata": {},
   "source": [
    "Наиболее часто используемые магические методы:\n",
    "\n",
    "  1. `__init__(self, ...)`: Конструктор объекта. Он вызывается при создании нового экземпляра класса и позволяет инициализировать его атрибуты.\n",
    "\n",
    "  2. `__str__(self)`: Возвращает строковое представление объекта. Он вызывается функцией str() или при преобразовании объекта в строку с помощью print().\n",
    "\n",
    "  3. `__repr__(self)`: Возвращает строковое представление объекта для отладки. Он используется для представления объекта в консоли или при вызове функции repr().\n",
    "\n",
    "  4. `__len__(self)`: Возвращает длину объекта. Он вызывается функцией len().\n",
    "\n",
    "  5. `__getitem__(self, key)`: Получает элемент по индексу или ключу. Он вызывается при использовании оператора индексации ([]).\n",
    "\n",
    "  6. `__setitem__(self, key, value)`: Устанавливает значение элемента по индексу или ключу. Он вызывается при присваивании значения элементу с использованием оператора индексации ([]).\n",
    "\n",
    "  7. `__delitem__(self, key)`: Удаляет элемент по индексу или ключу. Он вызывается при использовании оператора del для удаления элемента.\n",
    "\n",
    "  8. `__iter__(self)`: Возвращает итератор для объекта. Он вызывается функцией iter().\n",
    "\n",
    "  9. `__next__(self)`: Возвращает следующий элемент итератора. Он вызывается функцией next().\n",
    "\n",
    "  10. `__eq__(self, other)`: Определяет операцию равенства (==) для объектов.\n",
    "\n",
    "  11. `__lt__(self, other)`, `__gt__(self, other)`, `__le__(self, other)`, `__ge__(self, other)`: Определяют операции сравнения (<, >, <=, >=) для объектов.\n",
    "\n",
    "  12. `__add__(self, other)`, `__sub__(self, other)`, `__mul__(self, other)`,` __truediv__(self, other)`: Определяют арифметические операции (+, -, *, /) для объектов.\n",
    "\n",
    "  13. `__new__(cls, ...)`: Метод `__new__` является первым шагом в создании объекта в Python. Он вызывается перед методом `__init__` и используется для создания нового экземпляра класса.\n",
    "\n",
    "  14. `__del__(self)`: Деструктор объекта. Он вызывается при удалении экземпляра класса и может использоваться для освобождения ресурсов или выполнения других завершающих действий."
   ]
  },
  {
   "cell_type": "markdown",
   "metadata": {},
   "source": [
    "Магические методы предоставляют возможность более гибкого управления поведением объектов в Python и обеспечивают единообразие интерфейса для стандартных операций. Их использование повышает читаемость и удобство использования вашего кода."
   ]
  },
  {
   "cell_type": "markdown",
   "metadata": {},
   "source": [
    "## 5. Конструкторы и деструкторы"
   ]
  },
  {
   "cell_type": "markdown",
   "metadata": {},
   "source": [
    "* **Конструктор (Constructor)**: Конструктор - это специальный метод, который вызывается при создании нового экземпляра класса. В Python конструктор обозначается методом __init__(). Он используется для инициализации атрибутов объекта"
   ]
  },
  {
   "cell_type": "code",
   "execution_count": null,
   "metadata": {},
   "outputs": [],
   "source": [
    "class MyClass:\n",
    "    def __init__(self, x):\n",
    "        self.x = x\n",
    "\n",
    "obj = MyClass(10)"
   ]
  },
  {
   "cell_type": "markdown",
   "metadata": {},
   "source": [
    "* **Деструктор (Destructor)**: Деструктор - это метод, который вызывается при удалении экземпляра класса. В Python деструктор обозначается методом __del__(). Он может использоваться для освобождения ресурсов или выполнения других завершающих действий перед уничтожением объекта."
   ]
  },
  {
   "cell_type": "code",
   "execution_count": null,
   "metadata": {},
   "outputs": [],
   "source": [
    "class MyClass:\n",
    "    def __del__(self):\n",
    "        print(\"Object destroyed\")\n",
    "\n",
    "obj = MyClass()\n",
    "del obj  # Вызывает деструктор"
   ]
  },
  {
   "cell_type": "markdown",
   "metadata": {},
   "source": [
    "Конструкторы и деструкторы являются частью стандартных магических методов в Python и позволяют более точно контролировать жизненный цикл объектов. Их использование может быть полезным для правильной инициализации объектов и освобождения ресурсов в конце их жизненного цикла."
   ]
  },
  {
   "cell_type": "markdown",
   "metadata": {},
   "source": [
    "## 6. Примеры"
   ]
  },
  {
   "cell_type": "markdown",
   "metadata": {},
   "source": [
    "### Создание класса"
   ]
  },
  {
   "cell_type": "code",
   "execution_count": null,
   "metadata": {},
   "outputs": [],
   "source": [
    "class MyClass:\n",
    "    val = 2  # Свойство класса\n",
    "\n",
    "    def mult(self, x):  # Методы класса\n",
    "        return self.val * x\n",
    "\n",
    "    def power(self, x):\n",
    "        return x ** self.val"
   ]
  },
  {
   "cell_type": "code",
   "execution_count": null,
   "metadata": {},
   "outputs": [],
   "source": [
    "elem = MyClass()\n",
    "print(elem.val)\n",
    "print(elem.mult(3))\n",
    "print(elem.power(3))"
   ]
  },
  {
   "cell_type": "code",
   "execution_count": null,
   "metadata": {},
   "outputs": [],
   "source": [
    "print(type(elem))"
   ]
  },
  {
   "cell_type": "code",
   "execution_count": null,
   "metadata": {},
   "outputs": [],
   "source": [
    "elem.val = 4\n",
    "print(elem.val)\n",
    "print(elem.mult(3))\n",
    "print(elem.power(3))"
   ]
  },
  {
   "cell_type": "markdown",
   "metadata": {},
   "source": [
    "### Конструкторы и деструкторы"
   ]
  },
  {
   "cell_type": "code",
   "execution_count": null,
   "metadata": {},
   "outputs": [],
   "source": [
    "class MyClass:\n",
    "    def __init__(self):\n",
    "        \"\"\"\n",
    "        Конструктор класса. Выполняется при создании экземпляра класса\n",
    "        Обычно все свойства определяются в конструкторе\n",
    "        \"\"\"\n",
    "        print('Initialize')\n",
    "        self.val = 2  # Свойство класса\n",
    "\n",
    "    def mult(self, x):  # Метод класса\n",
    "        return self.val * x\n",
    "\n",
    "    def __del__(self):\n",
    "        \"\"\"\n",
    "        Деструктор класса. Выполняется при удалении экземпляра класса\n",
    "        \"\"\"\n",
    "        print('Delete')"
   ]
  },
  {
   "cell_type": "code",
   "execution_count": null,
   "metadata": {},
   "outputs": [],
   "source": [
    "elem = MyClass()\n",
    "print(elem.val)\n",
    "del elem"
   ]
  },
  {
   "cell_type": "markdown",
   "metadata": {},
   "source": [
    "При запуске .py файла деструктор выполняется при завершении программы, либо когда когда перменная автоматически удаляется (например, выполнение выходит из зоны видимости локальной переменной)."
   ]
  },
  {
   "cell_type": "markdown",
   "metadata": {},
   "source": [
    "На практике деструктор используется редко, в основном для тех ресурсов, которые требуют явного освобождения памяти при удалении объекта."
   ]
  },
  {
   "cell_type": "markdown",
   "metadata": {},
   "source": [
    "### Инкапсуляция"
   ]
  },
  {
   "cell_type": "markdown",
   "metadata": {},
   "source": [
    "Атрибут может быть объявлен приватным (внутренним) с помощью нижнего подчеркивания перед именем, но настоящего скрытия на самом деле не происходит – все на уровне соглашений."
   ]
  },
  {
   "cell_type": "code",
   "execution_count": null,
   "metadata": {},
   "outputs": [],
   "source": [
    "class MyClass:\n",
    "    def __init__(self):\n",
    "        self._val = 3  # закрытый (protected) аттрибут класса\n",
    "        self.__priv_val = 8  # приватный (private) аттрибут класса\n",
    "\n",
    "    def _factorial(self, x): # закрытый (protected) метод класса\n",
    "        fact = 1\n",
    "        for i in range(1, x):\n",
    "            fact *= i\n",
    "        return fact\n",
    "\n",
    "    def mult(self, x):  # Метод класса\n",
    "        return self._val * self._factorial(x)"
   ]
  },
  {
   "cell_type": "code",
   "execution_count": null,
   "metadata": {},
   "outputs": [],
   "source": [
    "elem = MyClass()\n",
    "print(elem._val)  # Доступ к закрытому свойству\n",
    "print(elem._MyClass__priv_val)  # Доступ к приватному свойству"
   ]
  },
  {
   "cell_type": "markdown",
   "metadata": {},
   "source": [
    "### Работа с приватными данными"
   ]
  },
  {
   "cell_type": "code",
   "execution_count": null,
   "metadata": {},
   "outputs": [],
   "source": [
    "class Item:\n",
    "    def __init__(self, count=3, max_count=16):\n",
    "        self._count = count\n",
    "        self._max_count = 16\n",
    "\n",
    "    def update_count(self, val):\n",
    "        if val <= self._max_count:\n",
    "            self._count = val\n",
    "            return True\n",
    "        else:\n",
    "            return False\n",
    "\n",
    "    # Свойство объекта. Не принимает параметров кроме self, вызывается без круглых скобок\n",
    "    # Определяется с помощью декоратора property\n",
    "    @property\n",
    "    def count(self):\n",
    "        return self._count\n",
    "\n",
    "\n",
    "    # Ещё один способ изменить атрибут класса\n",
    "    @count.setter\n",
    "    def count(self, val):\n",
    "        self._count = val\n",
    "        if val <= self._max_count:\n",
    "            self._counts = val\n",
    "        else:\n",
    "            pass\n",
    "\n",
    "    @staticmethod\n",
    "    def static():\n",
    "        print('I am function')\n",
    "\n",
    "    @classmethod\n",
    "    def my_name(cls):\n",
    "        return cls.__name__"
   ]
  },
  {
   "cell_type": "code",
   "execution_count": null,
   "metadata": {},
   "outputs": [],
   "source": [
    "item = Item(2)\n",
    "print(item.count)\n",
    "ret = item.update_count(8)\n",
    "print(ret, item.count)"
   ]
  },
  {
   "cell_type": "markdown",
   "metadata": {},
   "source": [
    "### Наследование"
   ]
  },
  {
   "cell_type": "code",
   "execution_count": null,
   "metadata": {},
   "outputs": [],
   "source": [
    "class Banana(Item):\n",
    "    def __init__(self, count=1, max_count=32, color='green'):\n",
    "        super().__init__(count, max_count)\n",
    "        self._color = color\n",
    "\n",
    "    @property\n",
    "    def color(self):\n",
    "        return self._color"
   ]
  },
  {
   "cell_type": "code",
   "execution_count": null,
   "metadata": {},
   "outputs": [],
   "source": [
    "banana = Banana(color='red')\n",
    "print(banana.count)\n",
    "print(banana.color)"
   ]
  },
  {
   "cell_type": "code",
   "execution_count": null,
   "metadata": {},
   "outputs": [],
   "source": [
    "# isinstance проверяет принадлежит ли объект классу\n",
    "print(isinstance(banana, Banana))\n",
    "print(isinstance(banana, Item))"
   ]
  },
  {
   "cell_type": "markdown",
   "metadata": {},
   "source": [
    "Каждый объект в Python является наследником класса `object`."
   ]
  },
  {
   "cell_type": "code",
   "execution_count": null,
   "metadata": {},
   "outputs": [],
   "source": [
    "print(isinstance(banana, object))\n",
    "print(isinstance(Banana, object))\n",
    "print(isinstance(2, object))\n",
    "print(isinstance(banana.update_count, object))\n",
    "print(isinstance(isinstance, object))\n",
    "print(isinstance(print, object))"
   ]
  },
  {
   "cell_type": "markdown",
   "metadata": {},
   "source": [
    "### Множественное наследование"
   ]
  },
  {
   "cell_type": "code",
   "execution_count": null,
   "metadata": {},
   "outputs": [],
   "source": [
    "class Fruit(Item):\n",
    "    def __init__(self, ripe=True, **kwargs):\n",
    "        super().__init__(**kwargs)\n",
    "        self._ripe = ripe\n",
    "\n",
    "\n",
    "class Food(Item):\n",
    "    def __init__(self, saturation, **kwargs):\n",
    "        super().__init__(**kwargs)\n",
    "        self._saturation = saturation\n",
    "\n",
    "    @property\n",
    "    def eatable(self):\n",
    "        return self._saturation > 0"
   ]
  },
  {
   "cell_type": "code",
   "execution_count": null,
   "metadata": {},
   "outputs": [],
   "source": [
    "class Apple(Fruit, Food):\n",
    "    def __init__(self, ripe, count=1, max_count=32, color='green', saturation=10):\n",
    "        super().__init__(saturation=saturation, ripe=ripe, count=count, max_count=max_count)\n",
    "        self._color = color\n",
    "\n",
    "    @property\n",
    "    def color(self):\n",
    "        return self._color"
   ]
  },
  {
   "cell_type": "code",
   "execution_count": null,
   "metadata": {},
   "outputs": [],
   "source": [
    "apple = Apple(False, color='green')\n",
    "print(apple.count)\n",
    "print(apple.color)\n",
    "print(apple.eatable)"
   ]
  },
  {
   "cell_type": "markdown",
   "metadata": {},
   "source": [
    "### Полиморфизм"
   ]
  },
  {
   "cell_type": "code",
   "execution_count": null,
   "metadata": {},
   "outputs": [],
   "source": [
    "class Apple(Fruit, Food):\n",
    "    def __init__(self, ripe, count=1, max_count=32, color='green', saturation=10):\n",
    "        super().__init__(saturation=saturation, ripe=ripe, count=count, max_count=max_count)\n",
    "        self._color = color\n",
    "\n",
    "    @property\n",
    "    def color(self):\n",
    "        return self._color\n",
    "\n",
    "    @property\n",
    "    def eatable(self):\n",
    "        \"\"\"\n",
    "        Переопределённая функция класса Food. Добавление проверки на спелость\n",
    "        \"\"\"\n",
    "        return super().eatable and self._ripe"
   ]
  },
  {
   "cell_type": "code",
   "execution_count": null,
   "metadata": {},
   "outputs": [],
   "source": [
    "apple = Apple(False, color='green')\n",
    "print(apple.count)\n",
    "print(apple.color)\n",
    "print(apple.eatable)"
   ]
  },
  {
   "cell_type": "markdown",
   "metadata": {},
   "source": [
    "### Общий пример"
   ]
  },
  {
   "cell_type": "markdown",
   "metadata": {},
   "source": [
    "Давайте рассмотрим пример класса `\"Собака\"` на Python, который также использует абстракцию данных:"
   ]
  },
  {
   "cell_type": "code",
   "execution_count": null,
   "metadata": {},
   "outputs": [],
   "source": [
    "class Dog:\n",
    "    def __init__(self, name, age):\n",
    "        self._name = name\n",
    "        self._age = age\n",
    "\n",
    "    def get_age(self):\n",
    "        return self._age\n",
    "\n",
    "    def set_age(self, age):\n",
    "        self._age = age\n",
    "\n",
    "# Создание объекта класса Dog\n",
    "my_dog = Dog(\"Buddy\", 3)\n",
    "\n",
    "# Получение возраста собаки через метод\n",
    "print(my_dog.get_age())  # Вывод: 3\n",
    "\n",
    "# Изменение возраста собаки через метод\n",
    "my_dog.set_age(4)\n",
    "print(my_dog.get_age())  # Вывод: 4"
   ]
  },
  {
   "cell_type": "markdown",
   "metadata": {},
   "source": [
    "В этом примере класс `Dog` определяет атрибуты `_name` и `_age`, а также методы `get_age()` и `set_age()`, которые позволяют получать и устанавливать возраст собаки через интерфейс класса. Таким образом, детали реализации скрыты от пользователя, а доступ осуществляется через методы."
   ]
  },
  {
   "cell_type": "markdown",
   "metadata": {},
   "source": [
    "## 7. Паттерны программирования"
   ]
  },
  {
   "cell_type": "markdown",
   "metadata": {},
   "source": [
    "Паттерны программирования представляют собой повторяемые архитектурные решения для типичных проблем, возникающих при разработке программного обеспечения. Они описывают проверенные способы реализации конкретных конструкций и структур кода, которые позволяют создавать гибкие, расширяемые и поддерживаемые программы."
   ]
  },
  {
   "cell_type": "markdown",
   "metadata": {},
   "source": [
    "### Основные идеи паттернов программирования"
   ]
  },
  {
   "cell_type": "markdown",
   "metadata": {},
   "source": [
    "1. **Стандартные решения**: Паттерны предоставляют стандартные решения для типичных проблем, таких как создание объектов, управление взаимодействием между объектами, обеспечение гибкости и расширяемости системы, обработка ошибок и многое другое. Эти решения были разработаны и опробованы сообществом разработчиков на протяжении многих лет.\n",
    "\n",
    "2. **Абстрагирование сложности**: Паттерны помогают абстрагировать сложность программы, предоставляя простой и понятный способ решения проблемы. Они позволяют скрыть детали реализации за простым интерфейсом, что упрощает взаимодействие с системой для других разработчиков.\n",
    "\n",
    "3. **Повышение повторного использования кода**: Использование паттернов позволяет создавать код, который легко переиспользовать в различных контекстах. Это снижает дублирование кода и улучшает поддерживаемость и расширяемость программы.\n",
    "\n",
    "4. **Улучшение расширяемости**: Паттерны программирования способствуют созданию гибких и расширяемых систем, которые легко адаптируются к изменяющимся требованиям. Они позволяют добавлять новую функциональность без изменения существующего кода.\n",
    "\n",
    "5. **Улучшение коммуникации**: Использование общего языка паттернов программирования помогает улучшить коммуникацию между членами команды разработки. Это делает процесс разработки более эффективным и позволяет лучше понимать и взаимодействовать с кодом других разработчиков."
   ]
  },
  {
   "cell_type": "markdown",
   "metadata": {},
   "source": [
    "Паттерны программирования не являются конкретными алгоритмами или рецептами, а скорее общими стратегиями и подходами к решению проблем в разработке программного обеспечения. Они представляют собой ценный инструмент для проектирования высококачественных и эффективных программных систем."
   ]
  },
  {
   "cell_type": "markdown",
   "metadata": {},
   "source": [
    "### Основные группы паттернов программирования"
   ]
  },
  {
   "cell_type": "markdown",
   "metadata": {},
   "source": [
    "1. **Порождающие (Creational) паттерны**: Эти паттерны абстрагируют процесс создания объектов, обеспечивая более гибкий и управляемый способ их создания. Они позволяют создавать объекты без явного указания их класса или конкретного способа создания, делая систему более независимой от способа создания объектов. Некоторые из наиболее распространенных порождающих паттернов включают **Одиночку (Singleton)**, **Фабрику (Factory)**, **Абстрактную фабрику (Abstract Factory)**, **Строителя (Builder)** и **Прототип (Prototype)**."
   ]
  },
  {
   "cell_type": "markdown",
   "metadata": {},
   "source": [
    "2. **Структурные (Structural) паттерны**: Эти паттерны предоставляют способы композиции объектов в более крупные структуры, обеспечивая более гибкую и эффективную организацию кода. Они позволяют создавать новые структуры из существующих классов и объектов, что способствует повышению повторного использования кода и улучшению расширяемости и поддерживаемости системы. К ним относятся **Адаптер (Adapter)**, **Мост (Bridge)**, **Компоновщик (Composite)**, **Декоратор (Decorator)**, **Фасад (Facade)** и **Прокси (Proxy)**."
   ]
  },
  {
   "cell_type": "markdown",
   "metadata": {},
   "source": [
    "3. **Поведенческие (Behavioral) паттерны**: Эти паттерны абстрагируют процессы взаимодействия между объектами, обеспечивая более гибкое и эффективное управление поведением системы. Они предоставляют средства для организации взаимодействия объектов, управления потоком выполнения и реализации более гибких и сложных алгоритмов. Некоторые из наиболее известных поведенческих паттернов включают **Наблюдатель (Observer)**, **Стратегию (Strategy)**, **Шаблонный метод (Template Method)**, **Команда (Command)**, **Состояние (State)** и **Итератор (Iterator)**."
   ]
  },
  {
   "cell_type": "markdown",
   "metadata": {},
   "source": [
    "Каждая из этих групп паттернов имеет свои уникальные особенности и предназначена для решения различных видов проблем в процессе разработки программного обеспечения. Понимание и использование различных паттернов помогает разработчикам создавать более гибкие, модульные и расширяемые системы."
   ]
  },
  {
   "cell_type": "markdown",
   "metadata": {},
   "source": [
    "### Пример Фасада"
   ]
  },
  {
   "cell_type": "code",
   "execution_count": null,
   "metadata": {},
   "outputs": [],
   "source": [
    "class Tyre(object):\n",
    "    def __init__(self, position):\n",
    "        self.position = position\n",
    "        self.pressure = 2\n",
    "\n",
    "    def inflate(self, incrementing_value):\n",
    "        self.pressure += incrementing_value\n",
    "\n",
    "    def blow_off(self, decreasing_value):\n",
    "        self.pressure -= decreasing_value"
   ]
  },
  {
   "cell_type": "code",
   "execution_count": null,
   "metadata": {},
   "outputs": [],
   "source": [
    "class Tank(object):\n",
    "    def __init__(self, level):\n",
    "        self.level = level\n",
    "\n",
    "    def refuel(self, incrementing_value):\n",
    "        self.level += incrementing_value\n",
    "\n",
    "    def drain(self, decreasing_value):\n",
    "        self.level -= decreasing_value"
   ]
  },
  {
   "cell_type": "code",
   "execution_count": null,
   "metadata": {},
   "outputs": [],
   "source": [
    "class Car(object):\n",
    "    def __init__(self):\n",
    "        self._tyres = [Tyre('front_left'),\n",
    "                             Tyre('front_right'),\n",
    "                             Tyre('rear_left'),\n",
    "                             Tyre('rear_right'), ]\n",
    "        self._tank = Tank(70)\n",
    "\n",
    "    def tyres_pressure(self):\n",
    "        return [tyre.pressure() for tyre in self._tyres]\n",
    "\n",
    "    def fuel_level(self):\n",
    "        return self._tank.level()"
   ]
  },
  {
   "cell_type": "markdown",
   "metadata": {},
   "source": [
    "## 8. Задание"
   ]
  },
  {
   "cell_type": "markdown",
   "metadata": {},
   "source": [
    "1. Спроектировать и реализовать класс `Robot` с функциями индексации звуком/светодиодами/текстом по нажатию на кнопки на роботе.\n",
    "\n",
    "2. Добавить методы класса для движения робота (проехать прямо, повернуть).\n",
    "\n",
    "3. Проехать по периметру стола-стенда, индексируя каждый поворот светодиодами и/или звуковым сигналом (включать поворотники)."
   ]
  },
  {
   "cell_type": "markdown",
   "metadata": {},
   "source": [
    "## 9. Полезные ссылки"
   ]
  },
  {
   "cell_type": "markdown",
   "metadata": {},
   "source": [
    "* [Объектно-ориентированное программирование в Python](https://github.com/vvabi-sabi/PAC/blob/main/Lesson3.ipynb)\n",
    "\n",
    "* [ООП на Python: концепции, принципы и примеры реализации](https://proglib.io/p/python-oop)\n",
    "\n",
    "* [Python OOPs Concepts](https://www.geeksforgeeks.org/python-oops-concepts/)\n",
    "\n",
    "* [Object-Oriented Programming (OOP) in Python 3](https://realpython.com/python3-object-oriented-programming/)\n",
    "\n",
    "* [Объектно-ориентированное программирование](https://ru.wikipedia.org/wiki/%D0%9E%D0%B1%D1%8A%D0%B5%D0%BA%D1%82%D0%BD%D0%BE-%D0%BE%D1%80%D0%B8%D0%B5%D0%BD%D1%82%D0%B8%D1%80%D0%BE%D0%B2%D0%B0%D0%BD%D0%BD%D0%BE%D0%B5_%D0%BF%D1%80%D0%BE%D0%B3%D1%80%D0%B0%D0%BC%D0%BC%D0%B8%D1%80%D0%BE%D0%B2%D0%B0%D0%BD%D0%B8%D0%B5)\n",
    "\n",
    "* [Объектно-ориентированное программирование. Классы и объекты](https://pythonworld.ru/osnovy/obektno-orientirovannoe-programmirovanie-obshhee-predstavlenie.html)\n",
    "\n",
    "* [Access Modifiers in Python : Public, Private and Protected](https://www.geeksforgeeks.org/access-modifiers-in-python-public-private-and-protected/)\n",
    "\n",
    "* [Шаблоны проектирования \"банды четырёх (GoF)\"](https://jopr.org/blog/detail/gof-design-patterns)\n",
    "\n",
    "* [Шаблоны проектирования в Python: для стильного кода](https://proglib.io/p/python-patterns)\n",
    "\n",
    "* [Шаблоны проектирования по-человечески: структурные паттерны](https://proglib.io/p/structural-patterns)\n",
    "\n",
    "* [Шаблоны проектирования по-человечески: поведенческие паттерны в примерах](https://proglib.io/p/behavioral-patterns)"
   ]
  }
 ],
 "metadata": {
  "kernelspec": {
   "display_name": "base",
   "language": "python",
   "name": "python3"
  },
  "language_info": {
   "name": "python",
   "version": "3.12.1"
  }
 },
 "nbformat": 4,
 "nbformat_minor": 2
}
