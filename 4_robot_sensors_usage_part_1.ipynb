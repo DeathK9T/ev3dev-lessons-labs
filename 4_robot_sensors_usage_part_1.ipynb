{
 "cells": [
  {
   "cell_type": "markdown",
   "metadata": {},
   "source": [
    "# Использование отдельных датчиков роботом (часть 1)"
   ]
  },
  {
   "cell_type": "markdown",
   "metadata": {},
   "source": [
    "## *Примечание*"
   ]
  },
  {
   "cell_type": "markdown",
   "metadata": {},
   "source": [
    "Робот может не распознать датчик при первом подключении и выдать ошибку при запуске программы о том, что датчик не подключен. Переподключение датчика к роботу должно помочь решить эту проблему."
   ]
  },
  {
   "cell_type": "markdown",
   "metadata": {},
   "source": [
    "## Ev3 lego датчики"
   ]
  },
  {
   "cell_type": "markdown",
   "metadata": {},
   "source": [
    "Далее мы будем рассматривать стандартные датчики от Ev3."
   ]
  },
  {
   "cell_type": "markdown",
   "metadata": {},
   "source": [
    "Если к роботу подключены больше одного схожего датчика (два датчика цвета), то для каждого из них следует указать порт, к котором он подключен. Если датчик в единственном экземпляре, то указывать порт не обязательно."
   ]
  },
  {
   "cell_type": "code",
   "execution_count": null,
   "metadata": {},
   "outputs": [],
   "source": [
    "#!/usr/bin/env python3\n",
    "from ev3dev2.sensor import INPUT_1, INPUT_2\n",
    "from ev3dev2.sensor.lego import ColorSensor, UltrasonicSensor\n",
    "\n",
    "right_clr = ColorSensor(INPUT_1)\n",
    "left_clr = ColorSensor(INPUT_2)\n",
    "\n",
    "us_sensor = UltrasonicSensor()"
   ]
  },
  {
   "cell_type": "markdown",
   "metadata": {},
   "source": [
    "### TouchSensor _(address=None, name_pattern='sensor*', name_exact=False, **kwargs)_"
   ]
  },
  {
   "cell_type": "markdown",
   "metadata": {},
   "source": [
    "#### is_pressed"
   ]
  },
  {
   "cell_type": "markdown",
   "metadata": {},
   "source": [
    "Логическое значение, указывающее, нажат ли текущий сенсорный датчик."
   ]
  },
  {
   "cell_type": "markdown",
   "metadata": {},
   "source": [
    "#### wait_for_pressed _(timeout_ms=None, sleep_ms=10)_"
   ]
  },
  {
   "cell_type": "markdown",
   "metadata": {},
   "source": [
    "Дожидается нажатия. **timeout_ms** - отвечает за время, которое программа будет ждать нажатия (при None - ждать будет вечнно). **sleep_ms** - время ожидания в цикле."
   ]
  },
  {
   "cell_type": "markdown",
   "metadata": {},
   "source": [
    "#### wait_for_released _(timeout_ms=None, sleep_ms=10)_"
   ]
  },
  {
   "cell_type": "markdown",
   "metadata": {},
   "source": [
    "Дожидается отжатия. **timeout_ms** - отвечает за время, которое программа будет ждать отжатия (при None - ждать будет вечнно). **sleep_ms** - время ожидания в цикле."
   ]
  },
  {
   "cell_type": "markdown",
   "metadata": {},
   "source": [
    "#### wait_for_bump _(timeout_ms=None, sleep_ms=10)_"
   ]
  },
  {
   "cell_type": "markdown",
   "metadata": {},
   "source": [
    "Дожидается нажатия и отжатия. **timeout_ms** - отвечает за время, которое программа будет ждать нажатия и отжатия (при None - ждать будет вечнно). **sleep_ms** - время ожидания в цикле."
   ]
  },
  {
   "cell_type": "markdown",
   "metadata": {},
   "source": [
    "### ColorSensor _(address=None, name_pattern='sensor*', name_exact=False, **kwargs)_"
   ]
  },
  {
   "cell_type": "markdown",
   "metadata": {},
   "source": [
    "#### reflected_light_intensity"
   ]
  },
  {
   "cell_type": "markdown",
   "metadata": {},
   "source": [
    "Интенсивность отраженного света в процентах (от 0 до 100). Индикатор на датчике горит красным."
   ]
  },
  {
   "cell_type": "markdown",
   "metadata": {},
   "source": [
    "#### ambient_light_intensity"
   ]
  },
  {
   "cell_type": "markdown",
   "metadata": {},
   "source": [
    "Интенсивность окружающего освещения в процентах (от 0 до 100). Индикатор на датчике горит тусклым синим светом."
   ]
  },
  {
   "cell_type": "markdown",
   "metadata": {},
   "source": [
    "#### color"
   ]
  },
  {
   "cell_type": "markdown",
   "metadata": {},
   "source": [
    "Возвращает цвет, определяемый датчиком, представлен целым числом:\n",
    "\n",
    "- **0:** No color\n",
    "\n",
    "- **1:** Black\n",
    "\n",
    "- **2:** Blue\n",
    "\n",
    "- **3:** Green\n",
    "\n",
    "- **4:** Yellow\n",
    "\n",
    "- **5:** Red\n",
    "\n",
    "- **6:** White\n",
    "\n",
    "- **7:** Brown"
   ]
  },
  {
   "cell_type": "markdown",
   "metadata": {},
   "source": [
    "#### color_name"
   ]
  },
  {
   "cell_type": "markdown",
   "metadata": {},
   "source": [
    "Возвращает цвет, определяемый датчиком, представлен строкой."
   ]
  },
  {
   "cell_type": "markdown",
   "metadata": {},
   "source": [
    "#### raw"
   ]
  },
  {
   "cell_type": "markdown",
   "metadata": {},
   "source": [
    "Возвращает значения красного, зеленого и синего компонентов обнаруженного цвета в виде кортежа. Официально в диапазоне 0-1020, но возвращаемые значения при хорошем освещении на листе белой бумаги будут в диапазоне 250-400."
   ]
  },
  {
   "cell_type": "markdown",
   "metadata": {},
   "source": [
    "#### calibrate_white _()_"
   ]
  },
  {
   "cell_type": "markdown",
   "metadata": {},
   "source": [
    "Эта функция предназначена для вызова при наведении датчика на белый объект, чтобы выяснить, какие максимальные значения RGB робот может ожидать увидеть. Эти максимальные значения используются для масштабирования будущих необработанных значений в диапазоне 0-255 в **rgb()**.\n",
    "Если никогда не вызывать эту функцию, **red_max**, **green_max** и **blue_max** будут использовать значение по умолчанию, равное **300**. Это значение по умолчанию было выбрано путем измерения значений RGB белого листа бумаги в хорошо освещенной комнате."
   ]
  },
  {
   "cell_type": "markdown",
   "metadata": {},
   "source": [
    "#### rgb"
   ]
  },
  {
   "cell_type": "markdown",
   "metadata": {},
   "source": [
    "Возвращает значения красного, зеленого и синего компонентов обнаруженного цвета в виде кортежа в диапозоне 0-255."
   ]
  },
  {
   "cell_type": "markdown",
   "metadata": {},
   "source": [
    "### UltrasonicSensor _(address=None, name_pattern='sensor*', name_exact=False, **kwargs)_"
   ]
  },
  {
   "cell_type": "markdown",
   "metadata": {},
   "source": [
    "#### distance_centimeters"
   ]
  },
  {
   "cell_type": "markdown",
   "metadata": {},
   "source": [
    "Измеряет расстояние, обнаруженного датчиком, в сантиметрах."
   ]
  },
  {
   "cell_type": "markdown",
   "metadata": {},
   "source": [
    "#### distance_inches"
   ]
  },
  {
   "cell_type": "markdown",
   "metadata": {},
   "source": [
    "Измеряет расстояние, обнаруженного датчиком, в дюймах."
   ]
  },
  {
   "cell_type": "markdown",
   "metadata": {},
   "source": [
    "### GyroSensor _(address=None, name_pattern='sensor*', name_exact=False, **kwargs)_"
   ]
  },
  {
   "cell_type": "markdown",
   "metadata": {},
   "source": [
    "#### angle"
   ]
  },
  {
   "cell_type": "markdown",
   "metadata": {},
   "source": [
    "Количество градусов, на которые был повернут датчик."
   ]
  },
  {
   "cell_type": "markdown",
   "metadata": {},
   "source": [
    "#### rate"
   ]
  },
  {
   "cell_type": "markdown",
   "metadata": {},
   "source": [
    "Скорость, с которой вращается датчик, в градусах в секунду."
   ]
  },
  {
   "cell_type": "markdown",
   "metadata": {},
   "source": [
    "#### angle_and_rate"
   ]
  },
  {
   "cell_type": "markdown",
   "metadata": {},
   "source": [
    "Угол (градусы) и скорость вращения (градусы в секунду)."
   ]
  },
  {
   "cell_type": "markdown",
   "metadata": {},
   "source": [
    "#### calibrate _()_"
   ]
  },
  {
   "cell_type": "markdown",
   "metadata": {},
   "source": [
    "Робот должен быть совершенно неподвижен при вызове."
   ]
  },
  {
   "cell_type": "markdown",
   "metadata": {},
   "source": [
    "#### reset _()_"
   ]
  },
  {
   "cell_type": "markdown",
   "metadata": {},
   "source": [
    "Сбрасывает угол до 0."
   ]
  },
  {
   "cell_type": "markdown",
   "metadata": {},
   "source": [
    "#### wait_until_angle_changed_by _(delta, direction_sensitive=False)_"
   ]
  },
  {
   "cell_type": "markdown",
   "metadata": {},
   "source": [
    "Ожидает, пока угол не изменися на указанную величину. Если значение *direction_sensitive* равно *True*, будеи ждать, пока угол не изменится на дельту и в правильном направлении."
   ]
  },
  {
   "cell_type": "markdown",
   "metadata": {},
   "source": [
    "## Сторонние датчики"
   ]
  },
  {
   "cell_type": "markdown",
   "metadata": {},
   "source": [
    "Существуют стороние датчики, которые производятся другими компаниями, либо не были напрямую предназначены для Ev3. Список всех поддерживаемых датчиков можно посмотреть [здесь](https://docs.ev3dev.org/projects/lego-linux-drivers/en/ev3dev-stretch/sensors.html#using-sensors). Для того чтобы ими воспользоваться нужно использовать базовый класс **Sensor**."
   ]
  },
  {
   "cell_type": "markdown",
   "metadata": {},
   "source": [
    "### Sensor _(address=None, name_pattern='sensor*', name_exact=False, **kwargs)_"
   ]
  },
  {
   "cell_type": "markdown",
   "metadata": {},
   "source": [
    "Это базовый класс, от которого происходят все остальные классы датчиков. Обычно вместо этого используется один из других классов, но если у датчика нет выделенного класса, это позволит взаимодействовать с ним как с универсальным устройством."
   ]
  },
  {
   "cell_type": "markdown",
   "metadata": {},
   "source": [
    "#### address"
   ]
  },
  {
   "cell_type": "markdown",
   "metadata": {},
   "source": [
    "Возвращает имя порта, к которому подключен датчик, например ev3:in1."
   ]
  },
  {
   "cell_type": "markdown",
   "metadata": {},
   "source": [
    "#### decimals"
   ]
  },
  {
   "cell_type": "markdown",
   "metadata": {},
   "source": [
    "Возвращает количество знаков после запятой для значений в атрибутах *value* текущего режима."
   ]
  },
  {
   "cell_type": "markdown",
   "metadata": {},
   "source": [
    "#### driver_name"
   ]
  },
  {
   "cell_type": "markdown",
   "metadata": {},
   "source": [
    "Возвращает имя устройства/драйвера. "
   ]
  },
  {
   "cell_type": "markdown",
   "metadata": {},
   "source": [
    "#### mode"
   ]
  },
  {
   "cell_type": "markdown",
   "metadata": {},
   "source": [
    "Возвращает текущий режим. Запись одного из значений, возвращаемых modes, переводит датчик в этот режим."
   ]
  },
  {
   "cell_type": "markdown",
   "metadata": {},
   "source": [
    "#### modes"
   ]
  },
  {
   "cell_type": "markdown",
   "metadata": {},
   "source": [
    "Возвращает список допустимых режимов для датчика."
   ]
  },
  {
   "cell_type": "markdown",
   "metadata": {},
   "source": [
    "#### num_values"
   ]
  },
  {
   "cell_type": "markdown",
   "metadata": {},
   "source": [
    "Возвращает количество атрибутов *value*, которые будут возвращать допустимое значение для текущего режима."
   ]
  },
  {
   "cell_type": "markdown",
   "metadata": {},
   "source": [
    "#### units"
   ]
  },
  {
   "cell_type": "markdown",
   "metadata": {},
   "source": [
    "Возвращает единицы измерения для текущего режима. Может возвращать пустую строку."
   ]
  },
  {
   "cell_type": "markdown",
   "metadata": {},
   "source": [
    "#### value _(n=0)_"
   ]
  },
  {
   "cell_type": "markdown",
   "metadata": {},
   "source": [
    "Возвращает значение или величины, измеренные датчиком. Значения с N >= num_values вернут ошибку. Значения представляют собой числа с фиксированной запятой."
   ]
  },
  {
   "cell_type": "markdown",
   "metadata": {},
   "source": [
    "#### Пример"
   ]
  },
  {
   "cell_type": "code",
   "execution_count": null,
   "metadata": {},
   "outputs": [],
   "source": [
    "#!/usr/bin/env python3\n",
    "\n",
    "import time\n",
    "from ev3dev2.sensor import Sensor\n",
    "\n",
    "# IR Seeker V2 ------------------------\n",
    "seeker = Sensor(driver_name='ht-nxt-ir-seek-v2')\n",
    "seeker.mode = 'DC-ALL'\n",
    "\n",
    "for _ in range(60):\n",
    "    print(\"dir: {}\".format(seeker.value(0)))\n",
    "    print(\"str3: {}\".format(seeker.value(3)))\n",
    "    time.sleep(1)\n",
    "# -------------------------------------\n",
    "\n",
    "# Hi Technic Color sensor -------------\n",
    "color = Sensor(driver_name='ht-nxt-color')\n",
    "color.mode = \"NORM\"\n",
    "\n",
    "for _ in range(60):\n",
    "    val = color.value(3)\n",
    "    print(val)\n",
    "# -------------------------------------\n",
    "\n",
    "# HI Technic Compas -------------------\n",
    "compass = Sensor(driver_name='ht-nxt-compass')\n",
    "compass.mode = 'COMPASS'\n",
    "\n",
    "for _ in range(60):\n",
    "    print(\"dir: {}\".format(compass.value(0)))\n",
    "    time.sleep(1)\n",
    "# -------------------------------------\n"
   ]
  }
 ],
 "metadata": {
  "kernelspec": {
   "display_name": "ev3dev",
   "language": "python",
   "name": "python3"
  },
  "language_info": {
   "name": "python",
   "version": "3.10.12"
  }
 },
 "nbformat": 4,
 "nbformat_minor": 2
}
