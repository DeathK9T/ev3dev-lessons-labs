{
 "cells": [
  {
   "cell_type": "markdown",
   "metadata": {},
   "source": [
    "# Использование отдельных датчиков роботом (часть 2). Потоки, многозадачность и использование модуля threading в Python."
   ]
  },
  {
   "cell_type": "markdown",
   "metadata": {},
   "source": [
    "## Что такое потоки?"
   ]
  },
  {
   "cell_type": "markdown",
   "metadata": {},
   "source": [
    "**Потоки _(threads)_** в Python - это легковесные подпрограммы, которые выполняются параллельно внутри процесса. Они позволяют программе выполнять несколько задач одновременно и увеличивают общую производительность программы."
   ]
  },
  {
   "cell_type": "markdown",
   "metadata": {},
   "source": [
    "## Основные понятия"
   ]
  },
  {
   "cell_type": "markdown",
   "metadata": {},
   "source": [
    "* **Многозадачность:**\n",
    "\n",
    "    * Многозадачность - это способность системы выполнять несколько задач одновременно. Она может быть реализована как с использованием конкурентности, так и с использованием параллельности.\n",
    "\n",
    "* **Конкурентность *(Concurrency)*:**\n",
    "\n",
    "    <img src=\"images/threading/Concurrency.png\" alt=\"Concurrency-image\" width=\"300\">\n",
    "\n",
    "    * Несколько задач выполняются за определенный период времени, но не обязательно одновременно *(выполняются в пересмешивающемся порядке, и могут быть реализованы на одном физическом процессоре. В этом случае, на первый взгляд, задачи могут казаться выполняемыми одновременно, но фактически они чередуются в выполнении.)*\n",
    "\n",
    "* **Параллельность *(Parallelism)*:**\n",
    "\n",
    "    <img src=\"images/threading/Parallelism.png\" alt=\"Parallelism-image\" width=\"300\">\n",
    "\n",
    "    * Параллельность означает, что несколько задач выполняются фактически одновременно.\n",
    "\n",
    "    * Потоки могут быть параллельными, когда они выполняются одновременно на многопроцессорной системе или на многоядерном процессоре.\n",
    "\n",
    "* **Глобальная блокировка интерпретатора *(Global Interpreter Lock - GIL)*:**\n",
    "\n",
    "    * GIL - это механизм, который предотвращает одновременное выполнение нескольких потоков Python кода в одном процессе.\n",
    "\n",
    "    * Это ограничение происходит из-за управления памятью в CPython, интерпретаторе Python, который используется по умолчанию.\n",
    "\n",
    "    * GIL не позволяет использовать полностью многопоточность для эффективной параллельной обработки в Python. Однако он не мешает конкурентной обработке ввода-вывода."
   ]
  },
  {
   "cell_type": "markdown",
   "metadata": {},
   "source": [
    "## Модуль **threading**"
   ]
  },
  {
   "cell_type": "markdown",
   "metadata": {},
   "source": [
    "Python предоставляет встроенный модуль `threading`, который упрощает работу с потоками. Этот модуль позволяет создавать, управлять и синхронизировать потоки в Python."
   ]
  },
  {
   "cell_type": "markdown",
   "metadata": {},
   "source": [
    "Для создания потока в Python используется класс `Thread` из модуля `threading`. Он и будет являтся основной вещью при дальнейшей работе с многопоточностью."
   ]
  },
  {
   "cell_type": "markdown",
   "metadata": {},
   "source": [
    "### Thread _(group=None, target=None, name=None, args=(), kwargs={}, *, daemon=None)_"
   ]
  },
  {
   "cell_type": "markdown",
   "metadata": {},
   "source": [
    "* **group** должно быть *None*; *зарезервировано для будущего расширения при реализации класса `ThreadGroup`.*\n",
    "\n",
    "* **target** - это вызываемый объект, который будет вызван методом `run()`. По умолчанию используется значение *None*, что означает, что ничего не вызывается.\n",
    "\n",
    "* **name** - это имя потока. По умолчанию создается уникальное имя вида *Thread-N*, где *N* - небольшое десятичное число, или *Thread-N (target)*, где *target* - это `target.__name__`, если указан целевой аргумент.\n",
    "\n",
    "* **args** - это кортеж аргументов для целевого вызова. По умолчанию используется *()*.\n",
    "\n",
    "* **kwargs** - это словарь аргументов ключевых слов для целевого вызова. По умолчанию используется значение *{}*.\n",
    "\n",
    "* **daemon** отвечает за то, что будет ли поток работать независмо от основной программы или нет."
   ]
  },
  {
   "cell_type": "markdown",
   "metadata": {},
   "source": [
    "#### start _()_"
   ]
  },
  {
   "cell_type": "markdown",
   "metadata": {},
   "source": [
    "Запуск активности потока.\n",
    "\n",
    "Он должен вызываться не более одного раза для каждого объекта потока. Он обеспечивает вызов метода `run()` объекта в отдельном потоке управления.\n",
    "\n",
    "Этот метод вызовет `RuntimeError`, если вызывается более одного раза для одного и того же объекта потока."
   ]
  },
  {
   "cell_type": "markdown",
   "metadata": {},
   "source": [
    "#### run _()_"
   ]
  },
  {
   "cell_type": "markdown",
   "metadata": {},
   "source": [
    "Метод, представляющий активность потока.\n",
    "\n",
    "Вы можете переопределить этот метод в подклассе. Стандартный метод `run()` вызывает вызываемый объект, передаваемый конструктору объекта в качестве **целевого аргумента _(target)_**, если таковой имеется, с __позиционными аргументами__ и __аргументами ключевого слова__, взятыми из аргументов __args__ и __kwargs__ соответственно."
   ]
  },
  {
   "cell_type": "markdown",
   "metadata": {},
   "source": [
    "#### join _(timeout=None)_"
   ]
  },
  {
   "cell_type": "markdown",
   "metadata": {},
   "source": [
    "Дождидается завершения потока. Это блокирует вызывающий поток до тех пор, пока поток, метод `join()` которого вызывается, не завершится – либо обычным образом, либо через необработанное исключение – или пока не наступит необязательный тайм-аут.\n",
    "\n",
    "Когда аргумент **timeout** присутствует, а не *None*, это должно быть число с плавающей запятой, указывающее время ожидания для операции в секундах (или их долях). Поскольку `join()` всегда возвращает *None*, следует вызвать `is_alive()` после `join()`, чтобы решить, произошел ли тайм–аут - если поток все еще жив, время ожидания вызова `join()` истекло.\n",
    "\n",
    "Когда аргумент **timeout** отсутствует или *None*, операция будет блокироваться до завершения потока.\n",
    "\n",
    "Использовать метод `join()` можно много раз.\n",
    "\n",
    "`join()` вызывает `RuntimeError`, если предпринята попытка присоединиться к текущему потоку, поскольку это приведет к взаимоблокировке. Также является ошибкой искользовать `join()` к потоку до того, как он был запущен, и попытки сделать это вызывают такое же исключение."
   ]
  },
  {
   "cell_type": "markdown",
   "metadata": {},
   "source": [
    "#### name"
   ]
  },
  {
   "cell_type": "markdown",
   "metadata": {},
   "source": [
    "Строка, используемая только для целей идентификации. Она не имеет семантики. Нескольким потокам может быть присвоено одно и то же имя. Начальное имя задается конструктором."
   ]
  },
  {
   "cell_type": "markdown",
   "metadata": {},
   "source": [
    "#### ident"
   ]
  },
  {
   "cell_type": "markdown",
   "metadata": {},
   "source": [
    "**Идентификатор потока** этого потока или *None*, если поток не был запущен. Это ненулевое целое число. Идентификаторы потоков могут быть повторно использованы при завершении потока и создании другого потока. Идентификатор доступен даже после завершения потока."
   ]
  },
  {
   "cell_type": "markdown",
   "metadata": {},
   "source": [
    "#### native_id"
   ]
  },
  {
   "cell_type": "markdown",
   "metadata": {},
   "source": [
    "**Идентификатор потока (TID)** этого потока, присвоенный операционной системой *(ядром)*. Это неотрицательное целое число или *None*, если поток не был запущен. Это значение может использоваться для уникальной идентификации этого конкретного потока в масштабах всей системы *(до тех пор, пока поток не завершится, после чего значение может быть повторно использовано операционной системой)*."
   ]
  },
  {
   "cell_type": "markdown",
   "metadata": {},
   "source": [
    "#### is_alive _()_"
   ]
  },
  {
   "cell_type": "markdown",
   "metadata": {},
   "source": [
    "Возвращает, активен ли поток."
   ]
  },
  {
   "cell_type": "markdown",
   "metadata": {},
   "source": [
    "#### daemon"
   ]
  },
  {
   "cell_type": "markdown",
   "metadata": {},
   "source": [
    "Логическое значение, указывающее, является ли этот поток потоком демона *(True)* или нет *(False)*. Это должно быть установлено перед вызовом `start()`, в противном случае возникает ошибка `RuntimeError`. Его начальное значение наследуется от создающего потока; основной поток не является потоком-демоном, и поэтому для всех потоков, созданных в основном потоке, **по умолчанию используется значение daemon = False**.\n",
    "\n",
    "Вся программа Python завершается, когда не остается живых потоков, не являющихся демонами."
   ]
  },
  {
   "cell_type": "markdown",
   "metadata": {},
   "source": [
    "### Создание потока"
   ]
  },
  {
   "cell_type": "code",
   "execution_count": null,
   "metadata": {},
   "outputs": [],
   "source": [
    "import threading\n",
    "\n",
    "def task():\n",
    "    # код для выполнения в потоке\n",
    "    print(\"Task executed by thread\")\n",
    "\n",
    "# Создание объекта потока\n",
    "thread = threading.Thread(target=task)\n",
    "\n",
    "# Запуск потока\n",
    "thread.start()"
   ]
  },
  {
   "cell_type": "markdown",
   "metadata": {},
   "source": [
    "### Передача аргументов в поток"
   ]
  },
  {
   "cell_type": "code",
   "execution_count": null,
   "metadata": {},
   "outputs": [],
   "source": [
    "import threading\n",
    "\n",
    "def print_numbers(start, end):\n",
    "    for i in range(start, end+1):\n",
    "        print(i)\n",
    "\n",
    "# Создание объекта потока с передачей аргументов\n",
    "my_thread = threading.Thread(target=print_numbers, args=(1, 5))\n",
    "\n",
    "# Запуск потока\n",
    "my_thread.start()"
   ]
  },
  {
   "cell_type": "markdown",
   "metadata": {},
   "source": [
    "### Ожидание завершения потока"
   ]
  },
  {
   "cell_type": "code",
   "execution_count": null,
   "metadata": {},
   "outputs": [],
   "source": [
    "import time\n",
    "import threading\n",
    "\n",
    "def my_function():\n",
    "    # код для выполнения в потоке\n",
    "    for _ in range(10):\n",
    "        time.sleep(1)\n",
    "\n",
    "# Создание объекта потока\n",
    "my_thread = threading.Thread(target=my_function)\n",
    "\n",
    "# Запуск потока\n",
    "my_thread.start()\n",
    "\n",
    "# Ожидание завершения потока\n",
    "my_thread.join()"
   ]
  },
  {
   "cell_type": "markdown",
   "metadata": {},
   "source": [
    "### Избегание гонок данных"
   ]
  },
  {
   "cell_type": "code",
   "execution_count": null,
   "metadata": {},
   "outputs": [],
   "source": [
    "import threading\n",
    "\n",
    "counter = 0\n",
    "lock = threading.Lock()\n",
    "\n",
    "def increment_counter():\n",
    "    global counter\n",
    "    with lock:\n",
    "        counter += 1\n",
    "\n",
    "# Создание объектов потока\n",
    "thread1 = threading.Thread(target=increment_counter)\n",
    "thread2 = threading.Thread(target=increment_counter)\n",
    "\n",
    "# Запуск потоков\n",
    "thread1.start()\n",
    "thread2.start()\n",
    "\n",
    "# Ожидание завершения потоков\n",
    "thread1.join()\n",
    "thread2.join()\n",
    "\n",
    "print(\"Counter:\", counter)"
   ]
  },
  {
   "cell_type": "markdown",
   "metadata": {},
   "source": [
    "### Общение между потоками"
   ]
  },
  {
   "cell_type": "code",
   "execution_count": null,
   "metadata": {},
   "outputs": [],
   "source": [
    "import threading\n",
    "\n",
    "shared_variable = 0\n",
    "shared_lock = threading.Lock()\n",
    "\n",
    "def increment():\n",
    "    global shared_variable\n",
    "    for _ in range(100000):\n",
    "        with shared_lock:\n",
    "            shared_variable += 1\n",
    "\n",
    "def decrement():\n",
    "    global shared_variable\n",
    "    for _ in range(100000):\n",
    "        with shared_lock:\n",
    "            shared_variable -= 1\n",
    "\n",
    "# Создание потоков\n",
    "thread_increment = threading.Thread(target=increment)\n",
    "thread_decrement = threading.Thread(target=decrement)\n",
    "\n",
    "# Запуск потоков\n",
    "thread_increment.start()\n",
    "thread_decrement.start()\n",
    "\n",
    "# Ожидание завершения потоков\n",
    "thread_increment.join()\n",
    "thread_decrement.join()\n",
    "\n",
    "print(\"Результат:\", shared_variable)"
   ]
  },
  {
   "cell_type": "markdown",
   "metadata": {},
   "source": [
    "### Передача данных между потоками"
   ]
  },
  {
   "cell_type": "markdown",
   "metadata": {},
   "source": [
    "#### Используя глобальную переменную"
   ]
  },
  {
   "cell_type": "code",
   "execution_count": null,
   "metadata": {},
   "outputs": [],
   "source": [
    "import threading\n",
    "import time\n",
    "\n",
    "# Глобальная переменная для хранения данных\n",
    "shared_variable = 0\n",
    "\n",
    "# Функция, которая будет выполняться в отдельном потоке\n",
    "def worker():\n",
    "    global shared_variable\n",
    "    for i in range(5):\n",
    "        # Запись данных в переменную в отдельном потоке\n",
    "        shared_variable += 1\n",
    "        time.sleep(1)\n",
    "\n",
    "# Создание объекта для отдельного потока\n",
    "thread = threading.Thread(target=worker)\n",
    "\n",
    "# Запуск потока\n",
    "thread.start()\n",
    "\n",
    "# Основной поток\n",
    "for i in range(5):\n",
    "    # Вывод значений переменной из основного потока\n",
    "    print(f\"Значение переменной в основном потоке: {shared_variable}\")\n",
    "    time.sleep(1)\n",
    "\n",
    "# Ожидание завершения отдельного потока\n",
    "thread.join()\n",
    "\n",
    "# Вывод значения переменной после завершения всех потоков\n",
    "print(f\"Значение переменной после завершения всех потоков: {shared_variable}\")"
   ]
  },
  {
   "cell_type": "markdown",
   "metadata": {},
   "source": [
    "Обратите внимание, что использование глобальных переменных в многопоточном коде требует аккуратности, чтобы избежать гонок данных и других проблем синхронизации. В данном примере использовалась простая переменная, и в реальном коде, возможно, потребуется использовать мьютексы или другие механизмы синхронизации в зависимости от конкретных требований раличных задач."
   ]
  },
  {
   "cell_type": "markdown",
   "metadata": {},
   "source": [
    "#### Использование очередей *(Queue)*"
   ]
  },
  {
   "cell_type": "code",
   "execution_count": null,
   "metadata": {},
   "outputs": [],
   "source": [
    "import threading\n",
    "import queue\n",
    "import time\n",
    "\n",
    "# Создание объекта очереди\n",
    "data_queue = queue.Queue()\n",
    "\n",
    "# Функция, которая будет выполняться в отдельном потоке\n",
    "def worker():\n",
    "    for i in range(5):\n",
    "        # Запись данных в очередь в отдельном потоке\n",
    "        data_queue.put(i)\n",
    "        time.sleep(1)\n",
    "\n",
    "# Создание объекта для отдельного потока\n",
    "thread = threading.Thread(target=worker)\n",
    "\n",
    "# Запуск потока\n",
    "thread.start()\n",
    "\n",
    "# Основной поток\n",
    "for i in range(5):\n",
    "    # Получение данных из очереди в основном потоке\n",
    "    data = data_queue.get()\n",
    "    print(f\"Значение из очереди в основном потоке: {data}\")\n",
    "    time.sleep(1)\n",
    "\n",
    "# Ожидание завершения отдельного потока\n",
    "thread.join()"
   ]
  },
  {
   "cell_type": "markdown",
   "metadata": {},
   "source": [
    "Очереди предоставляют безопасный и удобный способ обмена данными между потоками. Они автоматически обеспечивают синхронизированный доступ к данным, избегая гонок данных. Так же они позволяют управлять порядком обработки данных, организуя их в FIFO (первым пришел, первым обработан) порядке.\n",
    "\n",
    "Из-за механизма блокировки, использование очередей может привести к замедлению приложения в случае частого доступа к данным из разных потоков."
   ]
  },
  {
   "cell_type": "markdown",
   "metadata": {},
   "source": [
    "### **Event** в **threading**"
   ]
  },
  {
   "cell_type": "markdown",
   "metadata": {},
   "source": [
    "**Event** - это механизм синхронизации в модуле threading, который позволяет одному потоку уведомлять другие о каких-либо событиях. **Event** может быть установлен в состояние *установлено* или *сброшено*. Потоки могут ожидать, пока событие не станет установленным, или сбрасывать его."
   ]
  },
  {
   "cell_type": "markdown",
   "metadata": {},
   "source": [
    "#### Пример:"
   ]
  },
  {
   "cell_type": "code",
   "execution_count": null,
   "metadata": {},
   "outputs": [],
   "source": [
    "import threading\n",
    "import time\n",
    "\n",
    "def worker(event):\n",
    "    print(\"Worker начинает ожидание события\")\n",
    "    event.wait()  # Поток ожидает, пока событие не станет установленным\n",
    "    print(\"Событие произошло. Worker продолжает выполнение.\")\n",
    "\n",
    "# Создание объекта Event\n",
    "my_event = threading.Event()\n",
    "\n",
    "# Создание объекта потока\n",
    "my_thread = threading.Thread(target=worker, args=(my_event,))\n",
    "\n",
    "# Запуск потока\n",
    "my_thread.start()\n",
    "\n",
    "# Некоторая работа выполняется в основном потоке\n",
    "\n",
    "time.sleep(2)  # Подождем 2 секунды, чтобы убедиться, что Worker уже ждет\n",
    "\n",
    "# Установка события\n",
    "print(\"Установка события.\")\n",
    "my_event.set()\n",
    "\n",
    "# Ожидание завершения потока\n",
    "my_thread.join()"
   ]
  },
  {
   "cell_type": "markdown",
   "metadata": {},
   "source": [
    "В этом примере основной поток устанавливает событие, и тем самым, *разблокирует* ожидающий поток. **Event** может быть использован для синхронизации и координации работы потоков в различных сценариях."
   ]
  },
  {
   "cell_type": "markdown",
   "metadata": {},
   "source": [
    "## Примеры применения"
   ]
  },
  {
   "cell_type": "markdown",
   "metadata": {},
   "source": [
    "Далее будут представленны примеры использования многопоточности непосредственно на Ev3. Больше примеров можно посмотреть в папке `resources/Thread`. Они представлены в общем виде *(без использования модуля ev3dev2)*."
   ]
  },
  {
   "cell_type": "markdown",
   "metadata": {},
   "source": [
    "### Использование потока"
   ]
  },
  {
   "cell_type": "code",
   "execution_count": null,
   "metadata": {},
   "outputs": [],
   "source": [
    "#!/usr/bin/env python3\n",
    "\n",
    "from threading import Thread\n",
    "import time\n",
    "\n",
    "from ev3dev2.sensor.lego import TouchSensor\n",
    "from ev3dev2.sound import Sound\n",
    "\n",
    "\n",
    "ts = TouchSensor()\n",
    "sound = Sound()\n",
    "\n",
    "\n",
    "def twenty_tones():\n",
    "    for _ in range(0,20):           # Повторение 20 раз\n",
    "        sound.play_tone(1000, 0.2)  # 1000 Гц в течение 0,2 с\n",
    "        time.sleep(0.5)\n",
    "\n",
    "\n",
    "t = Thread(target=twenty_tones)\n",
    "t.start()\n",
    "\n",
    "for i in range(0,5):       # Повторение пять раз, при этом i = 0, 1, 2, 3, 4.\n",
    "    ts.wait_for_bump()\n",
    "\n",
    "sound.beep()"
   ]
  },
  {
   "cell_type": "markdown",
   "metadata": {},
   "source": [
    "### Использование потока с передачей аргументов"
   ]
  },
  {
   "cell_type": "code",
   "execution_count": null,
   "metadata": {},
   "outputs": [],
   "source": [
    "#!/usr/bin/env python3\n",
    "\n",
    "from threading import Thread\n",
    "import time\n",
    "\n",
    "from ev3dev2.sensor.lego import TouchSensor\n",
    "from ev3dev2.sound import Sound\n",
    "\n",
    "\n",
    "ts = TouchSensor()\n",
    "sound = Sound()\n",
    "\n",
    "\n",
    "def twenty_tones(frequency):\n",
    "    for _ in range(0,20):               # Повторение 20 раз\n",
    "        sound.play_tone(frequency, 0.2) # 1500 Гц в течение 0,2 с\n",
    "        time.sleep(0.5)\n",
    "\n",
    "\n",
    "t = Thread(target=twenty_tones, args=(1500,))\n",
    "t.setDaemon(True)\n",
    "t.start()\n",
    "\n",
    "for i in range(0,5):  # Повторение пять раз, при этом i = 0, 1, 2, 3, 4.\n",
    "    ts.wait_for_bump()\n",
    "\n",
    "sound.beep()"
   ]
  },
  {
   "cell_type": "markdown",
   "metadata": {},
   "source": [
    "### Использование потока совместно с Event"
   ]
  },
  {
   "cell_type": "code",
   "execution_count": null,
   "metadata": {},
   "outputs": [],
   "source": [
    "#!/usr/bin/env python3\n",
    "\n",
    "from threading import Thread, Event\n",
    "import time\n",
    "\n",
    "from ev3dev2.sensor.lego import TouchSensor\n",
    "from ev3dev2.sound import Sound\n",
    "\n",
    "\n",
    "ts = TouchSensor()\n",
    "sound = Sound()\n",
    "event = Event()\n",
    "\n",
    "\n",
    "def tones_forever():\n",
    "    while not event.is_set():\n",
    "        sound.play_tone(1000, 0.2)\n",
    "        time.sleep(0.5)\n",
    "\n",
    "\n",
    "t = Thread(target=tones_forever)\n",
    "t.start()\n",
    "\n",
    "for i in range(0,5):\n",
    "    ts.wait_for_bump()\n",
    "\n",
    "sound.beep()\n",
    "\n",
    "event.set()"
   ]
  },
  {
   "cell_type": "markdown",
   "metadata": {},
   "source": [
    "### Чтение данных в потоке"
   ]
  },
  {
   "cell_type": "code",
   "execution_count": null,
   "metadata": {},
   "outputs": [],
   "source": [
    "#!/usr/bin/env python3\n",
    "\n",
    "import os\n",
    "import time\n",
    "from threading import Thread\n",
    "\n",
    "from ev3dev2.console import Console\n",
    "from ev3dev2.motor import OUTPUT_A, OUTPUT_B, MoveTank\n",
    "\n",
    "# Задаем шрифт для вывода на экран\n",
    "os.system(\"setfont Greek-TerminusBold20x10\")\n",
    "\n",
    "# Значения энкодера\n",
    "LEFT_VALUE = 0\n",
    "RIGHT_VALUE = 0\n",
    "\n",
    "def read_motors_positions(move_tank: MoveTank):\n",
    "    global LEFT_VALUE, RIGHT_VALUE\n",
    "    while True:\n",
    "        # Записываем текущие значения энкодера\n",
    "        LEFT_VALUE = move_tank.left_motor.position\n",
    "        RIGHT_VALUE = move_tank.right_motor.position\n",
    "        time.sleep(0.1)\n",
    "\n",
    "\n",
    "def main():\n",
    "    console = Console()\n",
    "\n",
    "    # Создаем объект моторов\n",
    "    move_tank = MoveTank(OUTPUT_A, OUTPUT_B)\n",
    "\n",
    "    # Создаем поток чтения данных энкодеров\n",
    "    read_thread = Thread(target=read_motors_positions, args=(move_tank,))\n",
    "    # Запускаем поток\n",
    "    read_thread.start()\n",
    "\n",
    "    while True:\n",
    "        # Очищаем все с экрана\n",
    "        console.reset_console()\n",
    "\n",
    "        # Выводим значения на дисплей\n",
    "        print(\"LEFT:\\t%s\\nRIGHT:\\t%s\\r\"%(LEFT_VALUE, RIGHT_VALUE))\n",
    "\n",
    "        time.sleep(0.1)"
   ]
  },
  {
   "cell_type": "markdown",
   "metadata": {},
   "source": [
    "## Задание"
   ]
  },
  {
   "cell_type": "markdown",
   "metadata": {},
   "source": [
    "1. Вывести на экран значения на экран данные всех подключенных датчиков. *(Для каждого отдельного типа датчика одтельный поток)*\n",
    "\n",
    "2. Заставить робота ездить прямо, используя энкодеры. *(Передавать скорость, учитывая отношение значений энкодеров левого и правого моторов)*\n",
    "\n",
    "3. Учитывая *пункт 2*, проехать по периметру стола-стенда. На пути могут быть препядствия, от которых нужно уворачиваться, используя ультразвукавой датчик."
   ]
  },
  {
   "cell_type": "markdown",
   "metadata": {},
   "source": [
    "## Полезные ссылки"
   ]
  },
  {
   "cell_type": "markdown",
   "metadata": {},
   "source": [
    "* [Официальная документация по использования датчиков при помощи модуля ev3dev2](https://ev3dev-lang.readthedocs.io/projects/python-ev3dev/en/ev3dev-stretch/sensors.html)\n",
    "\n",
    "* [Официальная документация модуля threading](https://docs.python.org/3.10/library/threading.html)\n",
    "\n",
    "* [GIL и его влияние на многопоточность Python](https://habr.com/ru/articles/592189/)\n",
    "\n",
    "* [Практический гайд по процессам и потокам (и не только) в Python](https://habr.com/ru/articles/773376/)\n",
    "\n",
    "* [Making lunch faster with Python concurrency](https://sourcery.ai/blog/concurrency/)\n",
    "\n",
    "* [What is the difference between concurrency and parallelism?](https://stackoverflow.com/questions/1050222/what-is-the-difference-between-concurrency-and-parallelism)\n",
    "\n",
    "* [Логирование в Python: руководство разработчика](https://habr.com/ru/companies/wunderfund/articles/683880/)\n",
    "\n",
    "* [8 продвинутых возможностей модуля logging в Python, которые вы не должны пропустить](https://habr.com/ru/articles/513966/)"
   ]
  },
  {
   "cell_type": "markdown",
   "metadata": {},
   "source": []
  }
 ],
 "metadata": {
  "kernelspec": {
   "display_name": "ev3dev",
   "language": "python",
   "name": "python3"
  },
  "language_info": {
   "name": "python",
   "version": "3.10.12"
  }
 },
 "nbformat": 4,
 "nbformat_minor": 2
}
