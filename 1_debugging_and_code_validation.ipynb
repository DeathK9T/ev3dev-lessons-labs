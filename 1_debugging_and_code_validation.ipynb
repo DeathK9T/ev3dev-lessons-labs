{
 "cells": [
  {
   "cell_type": "markdown",
   "metadata": {},
   "source": [
    "# Отладка и отслеживание правильности выполнения кода"
   ]
  },
  {
   "cell_type": "markdown",
   "metadata": {},
   "source": [
    "**Отладка** *(debugging)* и **отслеживание правильности выполнения кода** *(code validation)* - это процессы, направленные на выявление, исправление и предотвращение ошибок в программном коде. Эти практики являются важной частью разработки программного обеспечения и помогают обеспечить правильное и эффективное функционирование программ."
   ]
  },
  {
   "cell_type": "markdown",
   "metadata": {},
   "source": [
    "## 1. Отладка *(Debugging)*"
   ]
  },
  {
   "cell_type": "markdown",
   "metadata": {},
   "source": [
    "- **Определение и исправление ошибок:**  \n",
    "Когда разработчик пишет код, часто возникают ошибки. Отладка позволяет идентифицировать и исправить эти ошибки.\n",
    "\n",
    "- **Использование отладчика:**  \n",
    "Программы отладки, такие как отладчики в средах разработки, предоставляют средства для шаг-пошагового выполнения кода, просмотра значений переменных, а также выявления мест, где происходит некорректное поведение.\n",
    "\n",
    "- **Тестирование гипотез:**  \n",
    "Разработчики могут использовать отладку для проверки своих предположений о том, что происходит в коде в конкретный момент."
   ]
  },
  {
   "cell_type": "markdown",
   "metadata": {},
   "source": [
    "## 2. Отслеживание правильности выполнения кода *(Code Validation)*"
   ]
  },
  {
   "cell_type": "markdown",
   "metadata": {},
   "source": [
    "- **Проверка синтаксиса:**  \n",
    "Перед выполнением кода необходимо удостовериться, что он соответствует правилам языка программирования. Это включает в себя проверку синтаксиса на наличие ошибок.\n",
    "\n",
    "- **Статический анализ кода:**  \n",
    "Использование инструментов статического анализа для выявления потенциальных проблем в коде, таких как неиспользуемые переменные, потенциальные утечки памяти и другие."
   ]
  },
  {
   "cell_type": "markdown",
   "metadata": {},
   "source": [
    "## 3. Зачем это нужно"
   ]
  },
  {
   "cell_type": "markdown",
   "metadata": {},
   "source": [
    "- **Эффективность и производительность:**  \n",
    "Отладка и отслеживание правильности выполнения кода помогают улучшить эффективность разработки, так как позволяют быстро выявлять и исправлять ошибки.\n",
    "\n",
    "- **Улучшение качества программного продукта:**  \n",
    "Проверка кода перед его выполнением помогает предотвращать ошибки и проблемы, что способствует созданию более надежного и качественного программного продукта.\n",
    "\n",
    "- **Экономия времени и ресурсов:**  \n",
    "Выявление и устранение ошибок на ранних этапах разработки помогает избежать сложных и дорогостоящих проблем в будущем."
   ]
  },
  {
   "cell_type": "markdown",
   "metadata": {},
   "source": [
    "## 4. Итог"
   ]
  },
  {
   "cell_type": "markdown",
   "metadata": {},
   "source": [
    "В целом, отладка и отслеживание правильности выполнения кода - это важные аспекты разработки программного обеспечения, направленные на обеспечение корректной работы приложений и улучшение процесса разработки."
   ]
  },
  {
   "cell_type": "markdown",
   "metadata": {},
   "source": [
    "## Дополнительные полезные процессы, направленные на улучшение качества и процесса разработки"
   ]
  },
  {
   "cell_type": "markdown",
   "metadata": {},
   "source": [
    "### 1. Тестирование"
   ]
  },
  {
   "cell_type": "markdown",
   "metadata": {},
   "source": [
    "- **Модульное тестирование:**  \n",
    "Это метод тестирования, при котором каждый модуль (небольшая часть программы) проверяется отдельно. Это помогает выявлять и устранять ошибки в изолированных частях кода.\n",
    "\n",
    "- **Интеграционное тестирование:**  \n",
    "Проверка взаимодействия между различными модулями или компонентами программы. Цель - обеспечить корректную работу системы в целом.\n",
    "\n",
    "- **Системное тестирование:**  \n",
    "Полное тестирование всей системы, как если бы она уже была в рабочем окружении. Это включает в себя тестирование всех функций и проверку соответствия требованиям."
   ]
  },
  {
   "cell_type": "markdown",
   "metadata": {},
   "source": [
    "### 2. Автоматизация тестирования"
   ]
  },
  {
   "cell_type": "markdown",
   "metadata": {},
   "source": [
    "- **Инструменты для автоматизации тестов:**  \n",
    "Написание скриптов и использование специализированных инструментов для автоматизации процесса тестирования. Это ускоряет тестирование и обеспечивает более широкий охват функциональности."
   ]
  },
  {
   "cell_type": "markdown",
   "metadata": {},
   "source": [
    "### 3. Контроль версий"
   ]
  },
  {
   "cell_type": "markdown",
   "metadata": {},
   "source": [
    "- **Системы контроля версий (VCS):**  \n",
    "Инструменты, такие как Git, позволяют разработчикам отслеживать изменения в коде, создавать ветви для разработки новых функций, восстанавливать предыдущие версии и эффективно сотрудничать в команде."
   ]
  },
  {
   "cell_type": "markdown",
   "metadata": {},
   "source": [
    "### 4. Статический анализ кода"
   ]
  },
  {
   "cell_type": "markdown",
   "metadata": {},
   "source": [
    "- **Инструменты статического анализа кода:**  \n",
    "Проверка и анализ кода без его фактического выполнения. Инструменты, такие как ESLint для JavaScript или pylint для Python, помогают выявлять потенциальные проблемы в коде, соответствовать стандартам кодирования и улучшать его читаемость."
   ]
  },
  {
   "cell_type": "markdown",
   "metadata": {},
   "source": [
    "### 5. Код-ревью *(Code Review)*"
   ]
  },
  {
   "cell_type": "markdown",
   "metadata": {},
   "source": [
    "- **Обзор кода в команде:**  \n",
    "Процесс, при котором другие члены команды просматривают и анализируют код, написанный одним из разработчиков. Это помогает выявлять ошибки, обмениваться знаниями и поддерживать единые стандарты программирования."
   ]
  },
  {
   "cell_type": "markdown",
   "metadata": {},
   "source": [
    "### 6. Мониторинг и журналирование"
   ]
  },
  {
   "cell_type": "markdown",
   "metadata": {},
   "source": [
    "- **Мониторинг в продакшене:**  \n",
    "Установка инструментов мониторинга для отслеживания производительности, доступности и других параметров в реальном времени.\n",
    "\n",
    "- **Журналирование (Logging):**  \n",
    "Запись событий, ошибок и важных действий приложения в журналы для последующего анализа и отладки."
   ]
  },
  {
   "cell_type": "markdown",
   "metadata": {},
   "source": [
    "### 7. Анализ производительности"
   ]
  },
  {
   "cell_type": "markdown",
   "metadata": {},
   "source": [
    "- **Профилирование кода:**  \n",
    "Использование специализированных инструментов для определения, где и как происходят задержки в производительности кода. Позволяет оптимизировать узкие места."
   ]
  },
  {
   "cell_type": "markdown",
   "metadata": {},
   "source": [
    "### 8. Управление зависимостями"
   ]
  },
  {
   "cell_type": "markdown",
   "metadata": {},
   "source": [
    "- **Использование менеджеров зависимостей:**  \n",
    "Например, npm для JavaScript или pip для Python. Эти инструменты помогают эффективно управлять сторонними библиотеками и обеспечивают их корректную установку и обновление."
   ]
  },
  {
   "cell_type": "markdown",
   "metadata": {},
   "source": [
    "### Итог"
   ]
  },
  {
   "cell_type": "markdown",
   "metadata": {},
   "source": [
    "Все эти практики и инструменты совместно способствуют созданию более надежных, производительных и легко поддерживаемых программных продуктов. Их использование в различных комбинациях зависит от конкретных потребностей проекта и предпочтений команды разработчиков."
   ]
  },
  {
   "cell_type": "markdown",
   "metadata": {},
   "source": [
    "# Практика"
   ]
  },
  {
   "cell_type": "markdown",
   "metadata": {},
   "source": [
    "## Управление светодиодами"
   ]
  },
  {
   "cell_type": "markdown",
   "metadata": {},
   "source": [
    "EV3 имеет две пары светодиодов под кнопками. Как на левой, так и на правой стороне есть красный и зеленый светодиоды. Включив оба этих цвета в разных соотношениях, можно получить другие цвета, например желтый, янтарный и оранжевый."
   ]
  },
  {
   "cell_type": "markdown",
   "metadata": {},
   "source": [
    "**Доступные группы светодиодов**\n",
    "\n",
    "- LEFT\n",
    "- RIGHT\n",
    "\n",
    "**Значения для предустановленных цветов**\n",
    "\n",
    "- BLACK\n",
    "- RED\n",
    "- GREEN\n",
    "- AMBER\n",
    "- ORANGE\n",
    "- YELLOW"
   ]
  },
  {
   "cell_type": "markdown",
   "metadata": {},
   "source": [
    "Также предполагается, что можно создавать собственные цвета, указав процент максимальной яркости для красного и зеленого светодиодов в указанном порядке. Например, следует установить левую пару светодиодов почти на чистый ярко-красный цвет, но слегка оранжевого цвета:  \n",
    "```\n",
    "leds.set_color('LEFT', (1, 0.01)) # red: 100% brightness, green: 1%\n",
    "```"
   ]
  },
  {
   "cell_type": "markdown",
   "metadata": {},
   "source": [
    "### Пример"
   ]
  },
  {
   "cell_type": "markdown",
   "metadata": {},
   "source": [
    "Важно выключить все светодиоды перед началом установки цветов, поскольку в противном случае мигание стандартного мигающего зеленого будет мешать работе светодиодов."
   ]
  },
  {
   "cell_type": "code",
   "execution_count": null,
   "metadata": {},
   "outputs": [],
   "source": [
    "#!/usr/bin/env python3\n",
    "\n",
    "from ev3dev2.led import Leds\n",
    "import time\n",
    "\n",
    "\n",
    "leds = Leds()\n",
    "leds.all_off() # Turn all LEDs off\n",
    "time.sleep(1)\n",
    "\n",
    "# Set both pairs of LEDs to amber\n",
    "leds.set_color('LEFT', 'AMBER')\n",
    "leds.set_color('RIGHT', 'AMBER')\n",
    "time.sleep(4)\n",
    "\n",
    "# With custom colors:\n",
    "leds.set_color('LEFT', (1, 0)) # Bright Red.\n",
    "leds.set_color('RIGHT', (0, 1)) # Bright green.\n",
    "time.sleep(4)\n",
    "\n",
    "leds.set_color('LEFT', (1, 0.01)) # Does not work correctly\n",
    "leds.set_color('RIGHT', (0.01, 1)) # Does not work correctly\n",
    "time.sleep(4)"
   ]
  },
  {
   "cell_type": "markdown",
   "metadata": {},
   "source": [
    "### Все достуные методы"
   ]
  },
  {
   "cell_type": "markdown",
   "metadata": {},
   "source": [
    "#### set_color *(group, color, pct=1)*"
   ]
  },
  {
   "cell_type": "markdown",
   "metadata": {},
   "source": [
    "Устанавливает яркость светодиодов в данной группе на значения, указанные в цветовом кортеже. Если указан процент, яркость каждого светодиода уменьшается пропорционально."
   ]
  },
  {
   "cell_type": "code",
   "execution_count": null,
   "metadata": {},
   "outputs": [],
   "source": [
    "#!/usr/bin/env python3\n",
    "\n",
    "from ev3dev2.led import Leds\n",
    "\n",
    "\n",
    "leds = Leds()\n",
    "leds.set_color('LEFT', 'AMBER') # Используем заранее заданный цвет\n",
    "\n",
    "leds = Leds()\n",
    "leds.set_color('LEFT', (0.5, 0.3)) # Пытаемся подобрать цвет самостоятельно"
   ]
  },
  {
   "cell_type": "markdown",
   "metadata": {},
   "source": [
    "#### set _(group, **kwargs)_"
   ]
  },
  {
   "cell_type": "markdown",
   "metadata": {},
   "source": [
    "Установите атрибуты для каждого светодиода в группе."
   ]
  },
  {
   "cell_type": "code",
   "execution_count": null,
   "metadata": {},
   "outputs": [],
   "source": [
    "#!/usr/bin/env python3\n",
    "\n",
    "from ev3dev2.led import Leds\n",
    "\n",
    "\n",
    "leds = Leds()\n",
    "leds.set('LEFT', brightness_pct=0.5, trigger='timer')"
   ]
  },
  {
   "cell_type": "markdown",
   "metadata": {},
   "source": [
    "#### all_off _()_"
   ]
  },
  {
   "cell_type": "markdown",
   "metadata": {},
   "source": [
    "Выключение всех светодиодов."
   ]
  },
  {
   "cell_type": "code",
   "execution_count": null,
   "metadata": {},
   "outputs": [],
   "source": [
    "#!/usr/bin/env python3\n",
    "\n",
    "from ev3dev2.led import Leds\n",
    "\n",
    "\n",
    "leds = Leds()\n",
    "leds.all_off()"
   ]
  },
  {
   "cell_type": "markdown",
   "metadata": {},
   "source": [
    "#### reset _()_"
   ]
  },
  {
   "cell_type": "markdown",
   "metadata": {},
   "source": [
    "Возвращение цветов всех светодиодов в исходное положение."
   ]
  },
  {
   "cell_type": "code",
   "execution_count": null,
   "metadata": {},
   "outputs": [],
   "source": [
    "#!/usr/bin/env python3\n",
    "\n",
    "from ev3dev2.led import Leds\n",
    "\n",
    "\n",
    "leds = Leds()\n",
    "leds.reset()"
   ]
  },
  {
   "cell_type": "markdown",
   "metadata": {},
   "source": [
    "#### animate_police_lights _(color1, color2, group1='LEFT', group2='RIGHT', sleeptime=0.5, duration=5, block=True)_"
   ]
  },
  {
   "cell_type": "markdown",
   "metadata": {},
   "source": [
    "Переключаtn светодиоды group1 и group2 между color1 и color2, чтобы создать эффект полицейских огней. Чередует светодиоды group1 и group2 через каждый промежуток времени (в секундах), указанный в `sleeptime`.\n",
    "\n",
    "Воспроизводится в течении указанного в `duration` времени. Если в `duration` передать `None`, то воспроизводиться будет бесконечно."
   ]
  },
  {
   "cell_type": "code",
   "execution_count": null,
   "metadata": {},
   "outputs": [],
   "source": [
    "#!/usr/bin/env python3\n",
    "\n",
    "from ev3dev2.led import Leds\n",
    "\n",
    "\n",
    "leds = Leds()\n",
    "leds.animate_police_lights('RED', 'GREEN', sleeptime=0.75, duration=10)"
   ]
  },
  {
   "cell_type": "markdown",
   "metadata": {},
   "source": [
    "#### animate_flash _(color, groups=('LEFT', 'RIGHT'), sleeptime=0.5, duration=5, block=True)_"
   ]
  },
  {
   "cell_type": "markdown",
   "metadata": {},
   "source": [
    "Выключает / включает все светодиоды в группах, чтобы они загорались каждый указаный в `sleeptime` промежуток времени.\n",
    "\n",
    "Воспроизводится в течении указанного в `duration` времени. Если в `duration` передать `None`, то воспроизводиться будет бесконечно."
   ]
  },
  {
   "cell_type": "code",
   "execution_count": null,
   "metadata": {},
   "outputs": [],
   "source": [
    "#!/usr/bin/env python3\n",
    "\n",
    "from ev3dev2.led import Leds\n",
    "\n",
    "\n",
    "leds = Leds()\n",
    "leds.animate_flash('AMBER', sleeptime=0.75, duration=10)"
   ]
  },
  {
   "cell_type": "markdown",
   "metadata": {},
   "source": [
    "#### animate_cycle _(colors, groups=('LEFT', 'RIGHT'), sleeptime=0.5, duration=5, block=True)_"
   ]
  },
  {
   "cell_type": "markdown",
   "metadata": {},
   "source": [
    "Циклически отображает указанные цвета. Время горения одного цвета указывается в `sleeptime`.\n",
    "\n",
    "Воспроизводится в течении указанного в `duration` времени. Если в `duration` передать `None`, то воспроизводиться будет бесконечно."
   ]
  },
  {
   "cell_type": "code",
   "execution_count": null,
   "metadata": {},
   "outputs": [],
   "source": [
    "#!/usr/bin/env python3\n",
    "\n",
    "from ev3dev2.led import Leds\n",
    "\n",
    "\n",
    "leds = Leds()\n",
    "leds.animate_cycle(('RED', 'GREEN', 'AMBER'), sleeptime=0.75, duration=10)"
   ]
  },
  {
   "cell_type": "markdown",
   "metadata": {},
   "source": [
    "#### animate_rainbow _(group1='LEFT', group2='RIGHT', increment_by=0.1, sleeptime=0.1, duration=5, block=True)_"
   ]
  },
  {
   "cell_type": "markdown",
   "metadata": {},
   "source": [
    "Постепенно переходит от одного цвета к другому.\n",
    "\n",
    "Воспроизводится в течении указанного в `duration` времени. Если в `duration` передать `None`, то воспроизводиться будет бесконечно."
   ]
  },
  {
   "cell_type": "code",
   "execution_count": null,
   "metadata": {},
   "outputs": [],
   "source": [
    "#!/usr/bin/env python3\n",
    "\n",
    "from ev3dev2.led import Leds\n",
    "\n",
    "\n",
    "leds = Leds()\n",
    "leds.animate_rainbow()"
   ]
  },
  {
   "cell_type": "markdown",
   "metadata": {},
   "source": [
    "## Вывод на экран"
   ]
  },
  {
   "cell_type": "markdown",
   "metadata": {},
   "source": [
    "EV3 оснащен монохромным ЖК-экраном с разрешением 178 x 128 пикселей (в оттенках серого). Координаты верхнего левого пикселя равны (0, 0), а координаты нижнего правого пикселя равны (177, 127)."
   ]
  },
  {
   "cell_type": "markdown",
   "metadata": {},
   "source": [
    "### C помощью функции print()"
   ]
  },
  {
   "cell_type": "markdown",
   "metadata": {},
   "source": [
    "Функция `print()` очень проста в использовании, поскольку она не требует от вас создания объекта `Display()` и не требует от вас выполнения команды `update()` для применения ожидающих изменений к экрану. Поэтому ее проще использовать, чем функцию `text_pixels()`, описанная ниже. При использовании функции `print()` текст автоматически переносится к левому краю экрана и автоматически прокручивается вверх по мере необходимости. Вы можете изменить шрифт, как показано далее. Когда вы устанавливаете шрифт, эта настройка будет сохраняться до тех пор, пока вы не отключите устройство."
   ]
  },
  {
   "cell_type": "markdown",
   "metadata": {},
   "source": [
    "Что бы посмотреть все допступные шрифты можно прописать в терминале следующую команду:  \n",
    "```\n",
    "ls /usr/share/consolefonts\n",
    "```"
   ]
  },
  {
   "cell_type": "code",
   "execution_count": null,
   "metadata": {},
   "outputs": [],
   "source": [
    "!ls /usr/share/consolefonts"
   ]
  },
  {
   "cell_type": "markdown",
   "metadata": {},
   "source": [
    "#### Пример"
   ]
  },
  {
   "cell_type": "code",
   "execution_count": null,
   "metadata": {},
   "outputs": [],
   "source": [
    "#!/usr/bin/env python3\n",
    "\n",
    "import time\n",
    "import os\n",
    "\n",
    "# Вместо Greek-TerminusBold32x16 вставить любой понравившийся щрифт\n",
    "os.system('setfont Greek-TerminusBold32x16')\n",
    "\n",
    "for i in range(10):\n",
    "    print(i, end='\\r')\n",
    "    time.sleep(1)"
   ]
  },
  {
   "cell_type": "markdown",
   "metadata": {},
   "source": [
    "### Вывод текста в окне VS Code"
   ]
  },
  {
   "cell_type": "markdown",
   "metadata": {},
   "source": [
    "Программа, выполняемая на устройстве, но запущенная из VS Code, может печатать на панели вывода VS Code.\n",
    "\n",
    "Существует множество причин, по которым вы можете захотеть печатать на панели вывода, а не (или также) на экране EV3:\n",
    "\n",
    "- текст на панели вывода будет легко читаемым, в то время как текст на экране EV по умолчанию мелкий и его трудно прочитать на экране без подсветки;\n",
    "\n",
    "- текст на панели вывода можно легко скопировать и вставить при необходимости;\n",
    "\n",
    "- вы можете получать данные с вашего робота в режиме реального времени на вашем компьютере, даже если робот находится в нескольких метрах от вас и подключен к ПК по беспроводной сети;\n",
    "\n",
    "- нет ограничений на объем текста, который вы можете напечатать на панели вывода (при необходимости вы можете прокручивать вверх), в то время как при печати на экране EV3 текст теряется, как только он прокручивается за пределы экрана;\n",
    "\n",
    "- любой текст, напечатанный на экране EV3, теряется, как только программа завершает работу, в то время как текст на экране вывода остается;\n",
    "\n",
    "- даже при использовании крошечного шрифта по умолчанию текст на экране EV3 будет переноситься после 45 символов, тогда как на панели вывода VS Code текст может быть намного длиннее перед переносом.\n",
    "\n",
    "Конечно, вы можете печатать на панели вывода VS Code только в том случае, если вы запустите скрипт из VS Code - если вы запустите скрипт из устройтсва, то на панели вывода ничего не будет напечатано. Фактически выходные данные будут помещены в файл `my_program_name.py.err.log` в той же папке."
   ]
  },
  {
   "cell_type": "markdown",
   "metadata": {},
   "source": [
    "#### Пример"
   ]
  },
  {
   "cell_type": "code",
   "execution_count": null,
   "metadata": {},
   "outputs": [],
   "source": [
    "#!/usr/bin/env python3\n",
    "\n",
    "import sys\n",
    "import time\n",
    "\n",
    "for i in range(10):\n",
    "    print(i, file=sys.stderr)\n",
    "    time.sleep(1)"
   ]
  },
  {
   "cell_type": "markdown",
   "metadata": {},
   "source": [
    "### Отображение текста с помощью функции text_pixels()."
   ]
  },
  {
   "cell_type": "markdown",
   "metadata": {},
   "source": [
    "Отображение текста с помощью этой функции сложнее, чем с помощью `print()`, но дает вам больше контроля, поскольку вы можете указать, где должен быть размещен текст. Вы также можете одновременно отображать разные шрифты, чего нельзя сделать с помощью `print()`. Текст, который вы отображаете с помощью `text_pixels()`, не будет переноситься на левый край экрана и не будет прокручиваться. Кроме того, вам необходимо использовать `update()` экрана после использования этих функций, иначе на экране ничего не будет отображаться."
   ]
  },
  {
   "cell_type": "markdown",
   "metadata": {},
   "source": [
    "#### text_pixels _(text, clear_screen=True, x=0, y=0, text_color='black', font=None)_"
   ]
  },
  {
   "cell_type": "markdown",
   "metadata": {},
   "source": [
    "отображает текст таким образом, чтобы верхний левый угол текста находился в пиксельном местоположении, заданном x,y."
   ]
  },
  {
   "cell_type": "markdown",
   "metadata": {},
   "source": [
    "Параметр clear_screen, который по умолчанию равен True, что означает, что если ваш скрипт записывает строку текста, за которой следует вторая строка, то если вы забудете установить значение clear_screen равным False для второй строки, то первая строка не будет напечатана."
   ]
  },
  {
   "cell_type": "markdown",
   "metadata": {},
   "source": [
    "Нужно обязательно использовать функцию `update()`, чтобы ожидающие изменения были записаны на экран. Если вы забудете обновить экран, то вообще ничего не будет напечатано!"
   ]
  },
  {
   "cell_type": "markdown",
   "metadata": {},
   "source": [
    "Все доступные шрифты приведены на картинке ниже. Все они доступны в слудующем размере (высота в пикселях): 8, 10, 12, 14, 18, 24.\n",
    "\n",
    "<img src=\"images/debbuging/fonts.png\" alt=\"available-fonts\" width=\"600\">"
   ]
  },
  {
   "cell_type": "markdown",
   "metadata": {},
   "source": [
    "##### Пример"
   ]
  },
  {
   "cell_type": "code",
   "execution_count": null,
   "metadata": {},
   "outputs": [],
   "source": [
    "#!/usr/bin/env python3\n",
    "\n",
    "from ev3dev2.display import Display\n",
    "import time\n",
    "\n",
    "\n",
    "lcd = Display()\n",
    "\n",
    "\n",
    "def show_for(seconds):\n",
    "    lcd.update()\n",
    "    time.sleep(seconds)\n",
    "    lcd.clear()\n",
    "\n",
    "height = 24\n",
    "style = 'helvB' + str(height)\n",
    "y_value = 0\n",
    "str1 = ' The quick brown fox jumped'\n",
    "str2 = '123456789012345678901234567890'\n",
    "\n",
    "lcd.text_pixels(str1, False, 0, y_value, font=style)\n",
    "y_value += height+1\n",
    "lcd.text_pixels(str2, False, 0, y_value, font=style)\n",
    "y_value += height+1\n",
    "\n",
    "show_for(6)"
   ]
  },
  {
   "cell_type": "markdown",
   "metadata": {},
   "source": [
    "### Графика"
   ]
  },
  {
   "cell_type": "markdown",
   "metadata": {},
   "source": [
    "#### Обычные фигуры"
   ]
  },
  {
   "cell_type": "markdown",
   "metadata": {},
   "source": [
    "В EV3 Python есть несколько простых в использовании команд для рисования простых фигур."
   ]
  },
  {
   "cell_type": "markdown",
   "metadata": {},
   "source": [
    "- Линия\n",
    "\n",
    "    Рисует линию от (x1, y1) до (x2, y2).\n",
    "\n",
    "    ```\n",
    "    line(clear_screen=True, x1=10, y1=10, x2=50, y2=50, line_color='black', width=1)\n",
    "    ```\n",
    "\n",
    "- Окружность\n",
    "\n",
    "    Рисует окружность (радиус указывается в аргументе `radius`) с центром в точке (x, y).\n",
    "\n",
    "    ```\n",
    "    circle(clear_screen=True, x=50, y=50, radius=40, fill_color='black', outline_color='black')\n",
    "    ```\n",
    "\n",
    "- Прямоугольник\n",
    "\n",
    "    Рисует прямоугольник, где верхний левый угол находится в точке (x1, y1), а нижний правый угол - в точке (x2, y2).\n",
    "\n",
    "    ```\n",
    "    rectangle(clear_screen=True, x1=10, y1=10, x2=80, y2=40, fill_color='black', outline_color='black')\n",
    "    ```\n",
    "\n",
    "- Точка\n",
    "\n",
    "    Рисует один пиксель в точке (x, y).\n",
    "\n",
    "    ```\n",
    "    point(clear_screen=True, x=10, y=10, point_color='black')\n",
    "    ```"
   ]
  },
  {
   "cell_type": "markdown",
   "metadata": {},
   "source": [
    "##### Пример"
   ]
  },
  {
   "cell_type": "code",
   "execution_count": null,
   "metadata": {},
   "outputs": [],
   "source": [
    "#!/usr/bin/env python3\n",
    "\n",
    "from ev3dev2.display import Display\n",
    "import time\n",
    "\n",
    "\n",
    "lcd = Display()\n",
    "\n",
    "# Draw a circle of ‘radius’ centered at (x, y)\n",
    "lcd.circle(clear_screen=False, x=89, y=64, radius=61, fill_color='lightgrey')\n",
    "lcd.circle(False, x=65, y=45, radius=10, fill_color='black')\n",
    "lcd.circle(False, x=113, y=45, radius=10, fill_color='black')\n",
    "\n",
    "# Draw a line from (x1, y1) to (x2, y2)\n",
    "lcd.line(False, x1=89, y1=50, x2=89, y2=80, line_color='grey', width=4)\n",
    "\n",
    "# Draw a rectangle where the top left corner is at (x1, y1)\n",
    "# and the bottom right corner is at (x2, y2).\n",
    "lcd.rectangle(False, x1=69, y1=90, x2=109, y2=105, fill_color='grey')\n",
    "\n",
    "# Draw a single pixel at (x, y)\n",
    "lcd.point(False, x=65, y=45, point_color='white')\n",
    "lcd.point(False, x=113, y=45, point_color='white')\n",
    "\n",
    "lcd.update()\n",
    "\n",
    "time.sleep(10)"
   ]
  },
  {
   "cell_type": "markdown",
   "metadata": {},
   "source": [
    "#### Функции PIL(LOW)"
   ]
  },
  {
   "cell_type": "markdown",
   "metadata": {},
   "source": [
    "Другие фигуры можно нарисовать, используя мощную графическую библиотеку Pillow, которая является частью стандартного Python, а не чем-то уникальным для EV3 Python. Обратите внимание, что Pillow развился из библиотеки изображений Python (PIL)."
   ]
  },
  {
   "cell_type": "markdown",
   "metadata": {},
   "source": [
    "Модуль ImageDraw автоматически импортируется при импорте класса Display, поэтому вам не нужно импортировать его явно. Однако, если вы хотите отобразить файл изображения, вам действительно нужно импортировать класс Image, как будет объяснено позже."
   ]
  },
  {
   "cell_type": "markdown",
   "metadata": {},
   "source": [
    "Модуль ImageDraw предоставляет следующие методы:\n",
    "\n",
    "- arc _(xy, start, end, fill=None)_\n",
    "\n",
    "- bitmap _(xy, bitmap, fill=None)_\n",
    "\n",
    "- chord _(xy, start, end, fill=None, outline=None)_\n",
    "\n",
    "- ellipse _(xy, fill=None, outline=None)_\n",
    "\n",
    "- line _(xy, fill=None, width=0)_\n",
    "\n",
    "- pieslice _(xy, start, end, fill=None, outline=None)_\n",
    "\n",
    "- point _(xy, fill=None)_\n",
    "\n",
    "- polygon _(xy, fill=None, outline=None)_\n",
    "\n",
    "- rectangle _(xy, fill=None, outline=None)_"
   ]
  },
  {
   "cell_type": "markdown",
   "metadata": {},
   "source": [
    "##### Пример"
   ]
  },
  {
   "cell_type": "code",
   "execution_count": null,
   "metadata": {},
   "outputs": [],
   "source": [
    "#!/usr/bin/env python3\n",
    "\n",
    "from ev3dev2.display import Display\n",
    "from ev3dev2.button import Button\n",
    "import time\n",
    "\n",
    "\n",
    "lcd = Display()\n",
    "btn = Button()\n",
    "smile = True\n",
    "\n",
    "\n",
    "while not btn.any(): # exit loop with a long press on any button\n",
    "    lcd.clear()\n",
    "\n",
    "    lcd.draw.ellipse(( 20, 20,  60, 60))\n",
    "    lcd.draw.ellipse((118, 20, 158, 60))\n",
    "\n",
    "    if smile:\n",
    "        lcd.draw.arc((20, 80, 158, 100), 0, 180)\n",
    "    else:\n",
    "        lcd.draw.arc((20, 80, 158, 100), 180, 360)\n",
    "\n",
    "    smile = not smile  # toggle between True and False\n",
    "\n",
    "    # Update lcd display\n",
    "    lcd.update() # Applies pending changes to the screen.\n",
    "\n",
    "    # Nothing will be drawn on the lcd screen\n",
    "    # until this function is called.\n",
    "    time.sleep(1)"
   ]
  },
  {
   "cell_type": "markdown",
   "metadata": {},
   "source": [
    "#### Отображение изображения"
   ]
  },
  {
   "cell_type": "markdown",
   "metadata": {},
   "source": [
    "Прежде чем вы сможете отобразить изображения, у вас должен быть файл изображения для отображения. Большинство популярных форматов изображений должны работать (jpg, bmp, gif, png и т.д.), но они будут отображаться всего в четырех оттенках серого (черный, светло-серый, темно-серый, черно-белый). Анимированные gif-файлы \"воспроизводиться\" не будут."
   ]
  },
  {
   "cell_type": "markdown",
   "metadata": {},
   "source": [
    "##### Пример"
   ]
  },
  {
   "cell_type": "code",
   "execution_count": null,
   "metadata": {},
   "outputs": [],
   "source": [
    "#!/usr/bin/env python3\n",
    "\n",
    "from ev3dev2.display import Display\n",
    "import time\n",
    "from PIL import Image\n",
    "\n",
    "lcd = Display()\n",
    "\n",
    "logo = Image.open('/home/robot/python/images/any_picture.bmp')\n",
    "lcd.image.paste(logo, (0,0))\n",
    "lcd.update()\n",
    "\n",
    "time.sleep(5)"
   ]
  },
  {
   "cell_type": "markdown",
   "metadata": {},
   "source": [
    "## Обработка кнопок"
   ]
  },
  {
   "cell_type": "markdown",
   "metadata": {},
   "source": [
    "### Доступные методы и свойства"
   ]
  },
  {
   "cell_type": "markdown",
   "metadata": {},
   "source": [
    "- buttons_pressed\n",
    "\n",
    "    Возвращает список названий нажатых кнопок.\n",
    "\n",
    "- any _()_\n",
    "\n",
    "    Проверяет, нажата ли какая-либо кнопка.\n",
    "\n",
    "- backspace\n",
    "\n",
    "    Проверяет, нажата ли кнопка возврата в исходное положение.\n",
    "\n",
    "- check_buttons _(buttons=[])_\n",
    "\n",
    "    Проверяет, точно ли нажатые в данный момент кнопки соответствуют заданным кнопкам списка.\n",
    "\n",
    "- down\n",
    "\n",
    "    Проверяет, нажата ли кнопка \"Down\".\n",
    "\n",
    "- enter\n",
    "\n",
    "    Проверяет, нажата ли кнопка \"Enter\".\n",
    "\n",
    "- left\n",
    "\n",
    "    Проверяет, нажата ли кнопка \"Left\".\n",
    "\n",
    "- on_change _(changed_buttons)_\n",
    "\n",
    "    Этот обработчик вызывается process() всякий раз, когда состояние какой-либо кнопки изменилось с момента последнего вызова process(). changed_buttons - это список кортежей измененных имен кнопок и их состояний.\n",
    "\n",
    "- process *(new_state=None)*\n",
    "\n",
    "    Проверяет, нажаты ли кнопки в данный момент. Если new_state отличается от старого состояния, вызовите соответствующие обработчики событий кнопки (on_up, on_down и т.д.).\n",
    "\n",
    "- right\n",
    "\n",
    "    Проверяет, нажата ли кнопка \"Right\".\n",
    "\n",
    "- Up\n",
    "\n",
    "    Проверяет, нажата ли кнопка \"Up\".\n",
    "\n",
    "- wait_for_bump *(buttons, timeout_ms=None)*\n",
    "\n",
    "    Дожидается нажатия кнопок, а затем отжатия. Оба действия должны выполняться в течение timeout_ms.\n",
    "\n",
    "- wait_for_pressed *(buttons, timeout_ms=None)*\n",
    "\n",
    "    Дожидается нажатия кнопок.\n",
    "\n",
    "- wait_for_released *(buttons, timeout_ms=None)*\n",
    "\n",
    "    Дождитесь отпускания кнопок."
   ]
  },
  {
   "cell_type": "markdown",
   "metadata": {},
   "source": [
    "### Пример"
   ]
  },
  {
   "cell_type": "code",
   "execution_count": null,
   "metadata": {},
   "outputs": [],
   "source": [
    "#!/usr/bin/env python3\n",
    "\n",
    "import time\n",
    "\n",
    "from ev3dev2.led import Leds\n",
    "from ev3dev2.button import Button\n",
    "\n",
    "leds = Leds()\n",
    "leds.all_off() # Turn all LEDs off\n",
    "time.sleep(1)\n",
    "\n",
    "btn = Button()\n",
    "\n",
    "while True:\n",
    "    if \"left\" in btn.buttons_pressed:  # left button pressed\n",
    "        leds.set_color(\"LEFT\", \"RED\")\n",
    "    else:\n",
    "        leds.set_color(\"LEFT\", \"GREEN\")\n",
    "\n",
    "    if \"right\" in btn.buttons_pressed: # right button pressed\n",
    "        leds.set_color(\"RIGHT\", \"RED\")\n",
    "    else:\n",
    "        leds.set_color(\"RIGHT\", \"GREEN\")\n",
    "\n",
    "    time.sleep(0.1)  # Give the CPU a rest"
   ]
  },
  {
   "cell_type": "markdown",
   "metadata": {},
   "source": [
    "## Воспроизведение звука"
   ]
  },
  {
   "cell_type": "markdown",
   "metadata": {},
   "source": [
    "Чтобы воспроизвести звуки, вы должны сначала импортировать класс Sound и создать экземпляр этого класса."
   ]
  },
  {
   "cell_type": "code",
   "execution_count": null,
   "metadata": {},
   "outputs": [],
   "source": [
    "from ev3dev2.sound import Sound\n",
    "\n",
    "sound = Sound()"
   ]
  },
  {
   "cell_type": "markdown",
   "metadata": {},
   "source": [
    "Все описанные далее звуковые функции имеют параметр ``play_type``, который по умолчанию равен ``0``. Вот значения трех возможных значений ``play_type``:  \n",
    "\n",
    "- **0:** Воспроизведит звук и заблокирует программу до завершения. Это значение по умолчанию;\n",
    "\n",
    "- **1:** Воспроизведит звук, не блокируя программу;\n",
    "\n",
    "- **2:** Воспроизведит звук в цикле, блокируя программу. Цикл можно завершить, только завершив работу программы."
   ]
  },
  {
   "cell_type": "markdown",
   "metadata": {},
   "source": [
    "### Воспроизведение стандартного звукового сигнала *(beep)*"
   ]
  },
  {
   "cell_type": "markdown",
   "metadata": {},
   "source": [
    "- **beep** *(args='', play_type=0)*\n",
    "\n",
    "    Вызывает команду beep с предоставленными аргументами (если таковые имеются).\n"
   ]
  },
  {
   "cell_type": "markdown",
   "metadata": {},
   "source": [
    "Обратите внимание, что по умолчанию команда ``beep()`` блокирует (приостанавливает) выполнение программы до завершения воспроизведения звука."
   ]
  },
  {
   "cell_type": "markdown",
   "metadata": {},
   "source": [
    "#### Пример"
   ]
  },
  {
   "cell_type": "code",
   "execution_count": null,
   "metadata": {},
   "outputs": [],
   "source": [
    "#!/usr/bin/env python3\n",
    "from ev3dev2.sound import Sound\n",
    "\n",
    "\n",
    "sound = Sound()\n",
    "sound.beep()"
   ]
  },
  {
   "cell_type": "markdown",
   "metadata": {},
   "source": [
    "### Воспроизведение одиночного звукового сигнала"
   ]
  },
  {
   "cell_type": "markdown",
   "metadata": {},
   "source": [
    "- **play_tone** *(frequency, duration, delay=0.0, volume=100, play_type=0)*\n",
    "\n",
    "    Воспроизведит один звуковой сигнал, заданный его частотой, длительностью, громкостью и конечной задержкой."
   ]
  },
  {
   "cell_type": "markdown",
   "metadata": {},
   "source": [
    "#### Пример"
   ]
  },
  {
   "cell_type": "code",
   "execution_count": null,
   "metadata": {},
   "outputs": [],
   "source": [
    "#!/usr/bin/env python3\n",
    "from ev3dev2.sound import Sound\n",
    "\n",
    "\n",
    "sound = Sound()\n",
    "sound.play_tone(1500, 2)"
   ]
  },
  {
   "cell_type": "markdown",
   "metadata": {},
   "source": [
    "### Воспроизведение последовательности звуковых сигналов"
   ]
  },
  {
   "cell_type": "markdown",
   "metadata": {},
   "source": [
    "- **tone** _(*args, play_type=0)_\n",
    "\n",
    "    Воспроизведит последовательность звуковых сигналов. Параметр `tone_sequence` представляет собой список кортежей, где каждый кортеж содержит до трех чисел. **Первое число** - это **частота** в Гц, **второе** - **длительность** в миллисекундах, а **третье** - **задержка** в миллисекундах между этим и следующим сигналом в последовательности."
   ]
  },
  {
   "cell_type": "markdown",
   "metadata": {},
   "source": [
    "#### Пример"
   ]
  },
  {
   "cell_type": "code",
   "execution_count": null,
   "metadata": {},
   "outputs": [],
   "source": [
    "#!/usr/bin/env python3\n",
    "from ev3dev2.sound import Sound\n",
    "\n",
    "\n",
    "sound = Sound()\n",
    "sound.tone([(200, 2000, 400),(800, 1000, 3000)])"
   ]
  },
  {
   "cell_type": "markdown",
   "metadata": {},
   "source": [
    "### Преобразование текста в речь"
   ]
  },
  {
   "cell_type": "markdown",
   "metadata": {},
   "source": [
    "- **speak** *(text, espeak_opts='-a 200 -s 130', volume=100, play_type=0)*\n",
    "\n",
    "    Произнесит данный текст вслух."
   ]
  },
  {
   "cell_type": "markdown",
   "metadata": {},
   "source": [
    "#### Пример"
   ]
  },
  {
   "cell_type": "code",
   "execution_count": null,
   "metadata": {},
   "outputs": [],
   "source": [
    "#!/usr/bin/env python3\n",
    "from ev3dev2.sound import Sound\n",
    "\n",
    "\n",
    "sound = Sound()\n",
    "sound.speak('Hello, my name is E V 3!')"
   ]
  },
  {
   "cell_type": "markdown",
   "metadata": {},
   "source": [
    "# Итоговое задание"
   ]
  },
  {
   "cell_type": "markdown",
   "metadata": {},
   "source": [
    "Написать игру Саймона. (Saimon game)."
   ]
  }
 ],
 "metadata": {
  "kernelspec": {
   "display_name": "ev3dev",
   "language": "python",
   "name": "python3"
  },
  "language_info": {
   "codemirror_mode": {
    "name": "ipython",
    "version": 3
   },
   "file_extension": ".py",
   "mimetype": "text/x-python",
   "name": "python",
   "nbconvert_exporter": "python",
   "pygments_lexer": "ipython3",
   "version": "3.10.12"
  }
 },
 "nbformat": 4,
 "nbformat_minor": 2
}
