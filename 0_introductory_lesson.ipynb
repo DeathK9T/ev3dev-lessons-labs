{
 "cells": [
  {
   "cell_type": "markdown",
   "metadata": {},
   "source": [
    "# Введение в Python"
   ]
  },
  {
   "cell_type": "markdown",
   "metadata": {},
   "source": [
    "## Особенности"
   ]
  },
  {
   "cell_type": "markdown",
   "metadata": {},
   "source": [
    "- Python - интерпретируемый язык программирования;\n",
    "- динамическая типизация;\n",
    "- хорошая поддержка модульности;\n",
    "- встроенная поддержка Unicode в строках;\n",
    "- ООП;\n",
    "- автоматическая сборка мусора, отсутствие утечек памяти;\n",
    "- понятный и лаконичный синтаксис;\n",
    "- огромное количество модулей;\n",
    "- кроссплатформенность."
   ]
  },
  {
   "cell_type": "markdown",
   "metadata": {},
   "source": [
    "## PEP8"
   ]
  },
  {
   "cell_type": "markdown",
   "metadata": {},
   "source": [
    "- Используйте 4 пробела на один уровень отступа\n",
    "\n",
    "- Никогда не смешивайте символы табуляции и пробелы\n",
    "\n",
    "- Ограничьте максимальную длину строки 79 символами\n",
    "\n",
    "- Пустые строки:\n",
    "\n",
    "- Отделяйте функции (верхнего уровня, не функции внутри функций) и определения классов двумя пустыми строчками\n",
    "\n",
    "- Определения методов внутри класса отделяйте одной пустой строкой\n",
    "\n",
    "- Дополнительные отступы строками могут быть изредка использованы для выделения группы логически связанных функций\n",
    "\n",
    "- Импортирование разных модулей должно быть на разных строчках\n",
    "\n",
    "- Комментарии, которые противоречат коду, хуже, чем отсутствие комментариев. Всегда исправляйте комментарии, если меняете код!\n",
    "\n",
    "- Старайтесь реже использовать комментарии в строке с кодом\n",
    "\n",
    "- Имена:\n",
    "\n",
    "    - Никогда не используйте символы l (малелькая латинская буква «эль»), O (заглавная латинская буква «о») или I (заглавная латинская буква «ай») как однобуквенные идентификаторы\n",
    "\n",
    "    - Все имена классов должны следовать соглашению CapWords почти без исключений\n",
    "\n",
    "    - Имена функций должны состоять из маленьких букв, а слова разделяться символами подчеркивания — это необходимо, чтобы увеличить читабельность\n",
    "\n",
    "- И другие правила [[en](https://peps.python.org/pep-0008/)|[ru](https://pythonworld.ru/osnovy/pep-8-rukovodstvo-po-napisaniyu-koda-na-python.html)]\n"
   ]
  },
  {
   "cell_type": "markdown",
   "metadata": {},
   "source": [
    "## Дзен Python *(The Zen of Python)*"
   ]
  },
  {
   "cell_type": "markdown",
   "metadata": {},
   "source": [
    "\n",
    "- Красивое лучше, чем уродливое.\n",
    "- Явное лучше, чем неявное.\n",
    "- Простое лучше, чем сложное.\n",
    "- Сложное лучше, чем запутанное.\n",
    "- Плоское лучше, чем вложенное.\n",
    "- Разреженное лучше, чем плотное.\n",
    "- Читаемость имеет значение.\n",
    "- Особые случаи не настолько особые, чтобы нарушать правила.\n",
    "- При этом практичность важнее безупречности.\n",
    "- Ошибки никогда не должны замалчиваться.\n",
    "- Если не замалчиваются явно.\n",
    "- Встретив двусмысленность, отбрось искушение угадать.\n",
    "- Должен существовать один — и, желательно, только один — очевидный способ сделать это.\n",
    "- Хотя он поначалу может быть и не очевиден, если вы не голландец.\n",
    "- Сейчас лучше, чем никогда.\n",
    "- Хотя никогда зачастую лучше, чем прямо сейчас.\n",
    "- Если реализацию сложно объяснить — идея плоха.\n",
    "- Если реализацию легко объяснить — идея, возможно, хороша.\n",
    "- Пространства имён — отличная штука! Будем делать их побольше!"
   ]
  },
  {
   "cell_type": "markdown",
   "metadata": {},
   "source": [
    "# Программирование на Python под ev3dev"
   ]
  },
  {
   "cell_type": "markdown",
   "metadata": {},
   "source": [
    "## Преднастройка для начала работы"
   ]
  },
  {
   "cell_type": "markdown",
   "metadata": {},
   "source": [
    "### Настройка Ethernet подключения <sup>[[1]](https://www.ev3dev.org/docs/tutorials/connecting-to-the-internet-via-usb/)</sup>"
   ]
  },
  {
   "cell_type": "markdown",
   "metadata": {},
   "source": [
    "1. Подключить блок Ev3Dev к компьютеру при помощи кабеля mini usb.\n",
    "\n",
    "2. Открыть терминал *(ctrl+alt+t - сочетание для вызова отдельного окна терминала)/(ctrl+~ - сочетание для открытия терминала в Visual Studio Code)* и прописать следующую команду:\n",
    "\n",
    "    ```\n",
    "    nm-connection-editor\n",
    "    ```\n",
    "\n",
    "3. В появившемся окне нажать на кнопку \"+\" / \"Add\".\n",
    "\n",
    "    |<img src=\"images/pc/add-new-connection(+).png\" alt=\"add_new_connection(+)\" width=\"300\">|<img src=\"images/pc/add-new-connection(add).png\" alt=\"add_new_connection(add)\" width=\"300\">| \n",
    "    |                 :---:                 |                :---:               |\n",
    "\n",
    "4. Убедитесь, что выбран **Ethernet** *(1)*, а затем нажмите **«Create…»** *(2)*..\n",
    "\n",
    "    <img src=\"images/pc/choose-a-connection-type.png\" alt=\"choose-a-connection-type\" width=\"300\">\n",
    "\n",
    "5. Введите имя подключения *(1)* и выберите MAC-адрес устройства вашего EV3 из списка *(2)*. Имя может быть каким угодно *(для удобства можно остановиться на **ev3dev**)*. MAC-адрес всегда будет начинаться с **12:16:53**, поэтому выберите его *(обычно самый нижний вариант в контекстном меню)*.\n",
    "\n",
    "    *Обязательно удалите имя сетевого интерфейса (например, bnep0 или enp0s20f0u4c2) в (2), оставив только MAC-адрес. В противном случае соединение может не работать, если вы позже подключите EV3 к другому порту USB.*\n",
    "\n",
    "    <img src=\"images/pc/editing-ev3dev-ethernet.png\" alt=\"editing-ev3dev-ethernet\" width=\"300\">\n",
    "\n",
    "6. Затем нажмите вкладку **«IPv4 Settings»** *(1)* и измените метод на **«Shared to other computers»** *(2)*. Нажмите **«Save»** *(3)*, когда закончите.\n",
    "\n",
    "    <img src=\"images/pc/editing-ev3dev-ipv4-settings.png\" alt=\"editing-ev3dev-ipv4-settings\" width=\"300\">\n",
    "\n",
    "7. Может появиться сообщение о том, что сеть подключена. Не верьте этому. Нам все еще нужно указать EV3 на подключение. Вы можете закрыть диалоговое окно **«Network Connections»**.\n",
    "\n",
    "    <img src=\"images/pc/network-connections-close.png\" alt=\"network-connections-close\" width=\"300\">\n",
    "\n",
    "8. Теперь нам нужно назначить IP-адрес нашему EV3. Перейдите в раздел **«Wireless and Networks»** и выберите **«All Network Connections»**, затем выберите проводное соединение со значком USB.\n",
    "\n",
    "    <img src=\"images/ev3dev/networking-connections-wired-only.png\" alt=\"networking-connections-wired-only\" width=\"300\">\n",
    "\n",
    "9. Затем выберите **Connect**.\n",
    "\n",
    "    <img src=\"images/ev3dev/wired-status-disconnected-connect-selected.png\" alt=\"wired-status-disconnected-connect-selected\" width=\"300\">\n",
    "\n",
    "10. Статус должен измениться на **Connecting**, а затем **Connected**, чтобы указать, что вы действительно подключены. Вы также можете установить флажок **Connect automatically**, чтобы в будущем это соединение возникало автоматически.\n",
    "\n",
    "    <img src=\"images/ev3dev/wired-status-online-connect-automatically-selected.png\" alt=\"wired-status-online-connect-automatically-selected\" width=\"300\">"
   ]
  },
  {
   "cell_type": "markdown",
   "metadata": {},
   "source": [
    "### Настройка Visual Studio Code"
   ]
  },
  {
   "cell_type": "markdown",
   "metadata": {},
   "source": [
    "1. Переходим во вкладку Extensions *(ctrl+shift+x)* и в поисковой строке вводим ``ev3dev.ev3dev-browser`` *(1)*. Далее выбираем появившеяся расширение и жмем кнопку **install** *(2)*.\n",
    "\n",
    "    <img src=\"images/extension/evdev-browser-extension.png\" alt=\"evdev-browser-extension\" width=\"600\">\n",
    "\n",
    "2. Во вкладке **Explorer** *(ctrl+shift+e)* появиться новое меню **EV3DEV DEVICE BROWSER**. Нажмите на него чтобы открыть *(1)*. Затем нажмите на **Click here to connect to a device** *(2)*. Появится окно со списком обнаруженных устройств. Выберите подходящее устройство *(3)*.\n",
    "\n",
    "    <img src=\"images/extension/evdev-extension-connect-device.png\" alt=\"evdev-extension-connect-device\" width=\"600\">\n",
    "\n",
    "3. После подключения устройства вы увидите зеленую точку и папку ``/home/robot``.\n",
    "\n",
    "    <img src=\"images/extension/vscode-home-robot.png\" alt=\"vscode-home-robot\" width=\"300\">"
   ]
  },
  {
   "cell_type": "markdown",
   "metadata": {},
   "source": [
    "### Полезные расширения для Visual Studio Code"
   ]
  },
  {
   "cell_type": "markdown",
   "metadata": {},
   "source": [
    "- **Python** *(id: ms-python.python)* - Расширение Visual Studio Code с широкой поддержкой языка Python (для всех активно поддерживаемых версий языка: >=3.7), включая такие функции, как IntelliSense (Pylance), анализ, отладку, навигацию по коду, форматирование кода, рефакторинг, обозреватель переменных. , обозреватель тестов и многое другое!\n",
    "\n",
    "- **Pylance** *(id: ms-python.vscode-pylance)* - это расширение, которое работает вместе с Python в Visual Studio Code и обеспечивает эффективную языковую поддержку. Под капотом Pylance работает Pyright, инструмент проверки статических типов Microsoft. Используя Pyright, Pylance имеет возможность расширить возможности Python IntelliSense за счет расширенной информации о типах, помогая вам быстрее писать более качественный код.\n",
    "\n",
    "- **isort** *(id: ms-python.isort)* - Расширение Visual Studio Code, обеспечивающее сортировку импортов.\n",
    "\n",
    "- **Black Formatter** *(id: ms-python.black-formatter)* - Расширение Visual Studio Code для удобного форматирования Python файлов."
   ]
  },
  {
   "cell_type": "markdown",
   "metadata": {},
   "source": [
    "## Запускаем свой первый код"
   ]
  },
  {
   "cell_type": "markdown",
   "metadata": {},
   "source": [
    "### Подготавливаем рабочее место для начала работы"
   ]
  },
  {
   "cell_type": "markdown",
   "metadata": {},
   "source": [
    "1. Запускаем **Visual Studio Code** и создаем новое пустое окно *(ctrl+shift+n)* *(старое окно можно закрыть)*.\n",
    "\n",
    "2. Заходим во вкладку **Explorer** *(ctrl+shift+e)* и нажимаем на кнопку **Open Folder**.\n",
    "\n",
    "    <img src=\"images/quick-start/open-folder.png\" alt=\"open-folder\" width=\"600\">\n",
    "\n",
    "3. Появиться окно, где нужно будет выбрать папку, в которой вы будете работать *(ее можно создать в появившемся окне при помощи кнопки <img src=\"images/quick-start/new-folder.png\" alt=\"new-folder\" width=\"30\">)*\n",
    "\n",
    "4. Если окно не высветилось, найдите его среди запущенных приложений.\n",
    "\n",
    "    <img src=\"images/quick-start/find-window.png\" alt=\"find-window\" width=\"600\">\n",
    "\n",
    "4. Если появиться окно **Do you trust authors of the files in this folder?** нажмите синюю кнопку **Yes, I trust the authors**.\n",
    "\n",
    "5. Создайте файл при помощи кнопки **New File…** <img src=\"images/quick-start/new-file.png\" alt=\"new-file\" width=\"32\"> возле названия вашей рабочей папки и назовите его, используя латинские буквы, без пробелов и с расширением ``.py``.\n",
    "\n",
    "6. Каждая новая программа должна начинаться с ``#!/usr/bin/env python3`` чтобы была возможность запустить ее на устройстве."
   ]
  },
  {
   "cell_type": "markdown",
   "metadata": {},
   "source": [
    "### Пример кода"
   ]
  },
  {
   "cell_type": "code",
   "execution_count": null,
   "metadata": {},
   "outputs": [],
   "source": [
    "#!/usr/bin/env python3\n",
    "'''Hello to the world from ev3dev.org'''\n",
    "\n",
    "import os\n",
    "import sys\n",
    "import time\n",
    "\n",
    "# state constants\n",
    "ON = True\n",
    "OFF = False\n",
    "\n",
    "\n",
    "def debug_print(*args, **kwargs):\n",
    "    '''Print debug messages to stderr.\n",
    "\n",
    "    This shows up in the output panel in VS Code.\n",
    "    '''\n",
    "    print(*args, **kwargs, file=sys.stderr)\n",
    "\n",
    "\n",
    "def reset_console():\n",
    "    '''Resets the console to the default state'''\n",
    "    print('\\x1Bc', end='')\n",
    "\n",
    "\n",
    "def set_cursor(state):\n",
    "    '''Turn the cursor on or off'''\n",
    "    if state:\n",
    "        print('\\x1B[?25h', end='')\n",
    "    else:\n",
    "        print('\\x1B[?25l', end='')\n",
    "\n",
    "\n",
    "def set_font(name):\n",
    "    '''Sets the console font\n",
    "\n",
    "    A full list of fonts can be found with `ls /usr/share/consolefonts`\n",
    "    '''\n",
    "    os.system('setfont ' + name)\n",
    "\n",
    "\n",
    "def main():\n",
    "    '''The main function of our program'''\n",
    "\n",
    "    # set the console just how we want it\n",
    "    reset_console()\n",
    "    set_cursor(OFF)\n",
    "    set_font('Lat15-Terminus24x12')\n",
    "\n",
    "    # print something to the screen of the device\n",
    "    print('Hello World!')\n",
    "\n",
    "    # print something to the output panel in VS Code\n",
    "    debug_print('Hello VS Code!')\n",
    "\n",
    "    # wait a bit so you have time to look at the display before the program\n",
    "    # exits\n",
    "    time.sleep(5)\n",
    "\n",
    "if __name__ == '__main__':\n",
    "    main()"
   ]
  },
  {
   "cell_type": "markdown",
   "metadata": {},
   "source": [
    "### Загрузка файла на устройство"
   ]
  },
  {
   "cell_type": "markdown",
   "metadata": {},
   "source": [
    "Во вкладке **Explorer** *(ctrl+shift+e)* наводим на меню **EV3DEV DEVICE BROWSER** и жмем на кнопку **Send project to device** для отправления фала на устройство.\n",
    "\n",
    "<img src=\"images/quick-start/download-button.png\" alt=\"download-button\" width=\"600\">"
   ]
  },
  {
   "cell_type": "markdown",
   "metadata": {},
   "source": [
    "### Удаленный запуск программы"
   ]
  },
  {
   "cell_type": "markdown",
   "metadata": {},
   "source": [
    "1. В меню **EV3DEV DEVICE BROWSER** нажмите на любой ``.py`` файл и в появившемся меню нажмите **Run**.\n",
    "\n",
    "    <img src=\"images/quick-start/run-quick-pick.png\" alt=\"run-quick-pick\" width=\"600\">\n",
    "\n",
    "2. Так же можно нажать на файл правой кнопкой мыши и выбрать **Run**.\n",
    "\n",
    "    <img src=\"images/quick-start/run-context-menu.png\" alt=\"run-context-menu\" width=\"300\">\n",
    "\n",
    "3. Сообщения об ошибках будут отображаться на панели вывода.\n",
    "\n",
    "    <img src=\"images/quick-start/output-pane.png\" alt=\"output-pane\" width=\"600\">"
   ]
  }
 ],
 "metadata": {
  "kernelspec": {
   "display_name": "ev3dev",
   "language": "python",
   "name": "python3"
  },
  "language_info": {
   "name": "python",
   "version": "3.10.12"
  }
 },
 "nbformat": 4,
 "nbformat_minor": 2
}
