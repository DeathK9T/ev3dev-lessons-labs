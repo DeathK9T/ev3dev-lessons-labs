{
 "cells": [
  {
   "cell_type": "markdown",
   "metadata": {},
   "source": [
    "# Управление моторами/роботом (Часть 2)"
   ]
  },
  {
   "cell_type": "markdown",
   "metadata": {},
   "source": [
    "## Управление двумя моторами"
   ]
  },
  {
   "cell_type": "markdown",
   "metadata": {},
   "source": [
    "Далее мы поговорим о таких важных классах как **MoveSteering** и **MoveTank**."
   ]
  },
  {
   "cell_type": "markdown",
   "metadata": {},
   "source": [
    "### *Примечание*"
   ]
  },
  {
   "cell_type": "markdown",
   "metadata": {},
   "source": [
    "Далее использование сивола __*__ после названий функций (методов) означает, что функции (методы) предоставлены в ознакомительных целях _(либо в текущей комплектации робота не заработает, либо сейчас не требуются)_."
   ]
  },
  {
   "cell_type": "markdown",
   "metadata": {},
   "source": [
    "### MoveTank *(left_motor_port, right_motor_port, desc=None, motor_class=<class 'ev3dev2.motor.LargeMotor'>)*"
   ]
  },
  {
   "cell_type": "markdown",
   "metadata": {},
   "source": [
    "Управляет парой двигателей одновременно, используя индивидуальные уставки скорости для каждого двигателя *(значения left_speed и значения right_speed)*."
   ]
  },
  {
   "cell_type": "markdown",
   "metadata": {},
   "source": [
    "#### on_for_degrees *(left_speed, right_speed, degrees, brake=True, block=True)*"
   ]
  },
  {
   "cell_type": "markdown",
   "metadata": {},
   "source": [
    "Вращаeт двигатели с **левой скоростью** и **правой скоростью** в **градусах**. Скорости могут быть выражены в процентах или в любой реализации значения скорости.\n",
    "\n",
    "Если левая скорость не равна правой скорости (т.е. робот повернет), двигатель, расположенный снаружи поворота, повернется на полные градусы, в то время как двигатель, расположенный внутри, рассчитает требуемое расстояние в соответствии с ожидаемым поворотом."
   ]
  },
  {
   "cell_type": "markdown",
   "metadata": {},
   "source": [
    "##### Пример"
   ]
  },
  {
   "cell_type": "code",
   "execution_count": null,
   "metadata": {},
   "outputs": [],
   "source": [
    "#!/usr/bin/env python3\n",
    "import time\n",
    "\n",
    "from ev3dev2.motor import MoveTank, OUTPUT_A, OUTPUT_B\n",
    "\n",
    "tank_pair = MoveTank(OUTPUT_A, OUTPUT_B)\n",
    "\n",
    "print(\"90 degrees\")\n",
    "tank_pair.on_for_degrees(50, 50, 90)\n",
    "time.sleep(1)"
   ]
  },
  {
   "cell_type": "markdown",
   "metadata": {},
   "source": [
    "#### on_for_rotations *(left_speed, right_speed, rotations, brake=True, block=True)*"
   ]
  },
  {
   "cell_type": "markdown",
   "metadata": {},
   "source": [
    "Вращает двигатели с **левой скоростью** и **правой скоростью** на количество **оборотов**. Скорости могут быть выражены в процентах или в любой реализации значения скорости.\n",
    "\n",
    "Если левая скорость не равна правой скорости (т.е. робот повернет), двигатель, расположенный снаружи поворота, совершит полный оборот, в то время как двигатель, расположенный внутри, рассчитает требуемое расстояние в соответствии с ожидаемым поворотом."
   ]
  },
  {
   "cell_type": "markdown",
   "metadata": {},
   "source": [
    "##### Пример"
   ]
  },
  {
   "cell_type": "code",
   "execution_count": null,
   "metadata": {},
   "outputs": [],
   "source": [
    "#!/usr/bin/env python3\n",
    "import time\n",
    "\n",
    "from ev3dev2.motor import MoveTank, OUTPUT_A, OUTPUT_B\n",
    "\n",
    "tank_pair = MoveTank(OUTPUT_A, OUTPUT_B)\n",
    "\n",
    "print(\"3 rotations\")\n",
    "tank_pair.on_for_rotations(50, 50, 3)\n",
    "time.sleep(1)"
   ]
  },
  {
   "cell_type": "markdown",
   "metadata": {},
   "source": [
    "#### on_for_seconds *(left_speed, right_speed, seconds, brake=True, block=True)*"
   ]
  },
  {
   "cell_type": "markdown",
   "metadata": {},
   "source": [
    "Вращает двигатели с **левой скоростью** и **правой скоростью** в течение **секунд**. Скорости могут быть выражены в процентах или в любой реализации значения скорости."
   ]
  },
  {
   "cell_type": "markdown",
   "metadata": {},
   "source": [
    "##### Пример"
   ]
  },
  {
   "cell_type": "code",
   "execution_count": null,
   "metadata": {},
   "outputs": [],
   "source": [
    "#!/usr/bin/env python3\n",
    "import time\n",
    "\n",
    "from ev3dev2.motor import MoveTank, OUTPUT_A, OUTPUT_B\n",
    "\n",
    "tank_pair = MoveTank(OUTPUT_A, OUTPUT_B)\n",
    "\n",
    "print(\"3 seconds\")\n",
    "tank_pair.on_for_seconds(50, 50, 3)\n",
    "time.sleep(1)"
   ]
  },
  {
   "cell_type": "markdown",
   "metadata": {},
   "source": [
    "#### on *(left_speed, right_speed)*"
   ]
  },
  {
   "cell_type": "markdown",
   "metadata": {},
   "source": [
    "Начинает вращать двигатели в соответствии с **left_speed** и **right_speed** вечно. Скорости могут быть выражены в процентах или в любой реализации значения скорости."
   ]
  },
  {
   "cell_type": "markdown",
   "metadata": {},
   "source": [
    "##### Пример"
   ]
  },
  {
   "cell_type": "code",
   "execution_count": null,
   "metadata": {},
   "outputs": [],
   "source": [
    "#!/usr/bin/env python3\n",
    "import time\n",
    "\n",
    "from ev3dev2.motor import MoveTank, OUTPUT_A, OUTPUT_B\n",
    "\n",
    "tank_pair = MoveTank(OUTPUT_A, OUTPUT_B)\n",
    "\n",
    "print(\"Forever\")\n",
    "tank_pair.on(50, 50)\n",
    "time.sleep(10)\n",
    "tank_pair.off()"
   ]
  },
  {
   "cell_type": "markdown",
   "metadata": {},
   "source": [
    "#### follow_line _(kp, ki, kd, speed, target_light_intensity=None, follow_left_edge=True, white=60, off_line_count_max=20, sleep_time=0.01, follow_for=<function follow_for_forever>, **kwargs)_ *"
   ]
  },
  {
   "cell_type": "markdown",
   "metadata": {},
   "source": [
    "Следует по линии, используя PID регулятор.\n",
    "\n",
    "**kp**, **ki** и **kd** - константы PID.\n",
    "\n",
    "**speed** - желаемая скорость средней точки робота.\n",
    "\n",
    "**target_light_intensity** - интенсивность отраженного света, когда датчик цвета\n",
    "находится на краю линии. Если это значение равно None, мы предполагаем, что датчик цвета находится на краю линии и будет считывать показания, чтобы установить эту переменную.\n",
    "\n",
    "**follow_left_edge** определяет, следуем ли мы за левым или правым краем линии.\n",
    "\n",
    "**white** - это отраженная интенсивность света, которая используется для определения того, потеряли ли мы линию.\n",
    "\n",
    "**off_line_count_max** - это сколько раз подряд в цикле **reflected_light_intensity** должно быть больше **white**, прежде чем мы объявим линию потерянной и вызовем исключение.\n",
    "\n",
    "**sleep_time** - это сколько секунд мы ожидаем при каждом прохождении цикла. Это нужно для того, чтобы дать роботу возможность отреагировать на новые настройки двигателя. Это должно быть что-то небольшое, например 0,01 (10 мс).\n",
    "\n",
    "**follow_for** вызывается, чтобы определить, следует ли нам продолжать следовать линии или остановиться. Эта функция будет передана *self* (текущему объекту *Move Tank*). Поддерживаемые в настоящее время опции: **follow_for_forever**, **follow_for_ms**.\n",
    "\n",
    "****kwargs** будут переданы в функцию **follow_for**."
   ]
  },
  {
   "cell_type": "markdown",
   "metadata": {},
   "source": [
    "##### Пример"
   ]
  },
  {
   "cell_type": "code",
   "execution_count": null,
   "metadata": {},
   "outputs": [],
   "source": [
    "#!/usr/bin/env python3\n",
    "from ev3dev2.motor import (OUTPUT_A, OUTPUT_B, LineFollowErrorTooFast,\n",
    "                           MoveTank, SpeedPercent, follow_for_ms)\n",
    "from ev3dev2.sensor.lego import ColorSensor\n",
    "\n",
    "tank = MoveTank(OUTPUT_A, OUTPUT_B)\n",
    "tank.cs = ColorSensor()\n",
    "\n",
    "try:\n",
    "    # Следуем линии на протяжении 4500 мс\n",
    "    tank.follow_line(\n",
    "        kp=11.3, ki=0.05, kd=3.2,\n",
    "        speed=SpeedPercent(30),\n",
    "        follow_for=follow_for_ms,\n",
    "        ms=4500\n",
    "    )\n",
    "except LineFollowErrorTooFast:\n",
    "    tank.stop()\n",
    "    raise"
   ]
  },
  {
   "cell_type": "markdown",
   "metadata": {},
   "source": [
    "#### follow_gyro_angle _(kp, ki, kd, speed, target_angle=0, sleep_time=0.01, follow_for=<function follow_for_forever>, **kwargs)_ *"
   ]
  },
  {
   "cell_type": "markdown",
   "metadata": {},
   "source": [
    "Следует по углу гироскопа, используя PID регулятор.\n",
    "\n",
    "**kp**, **ki** и **kd** - константы PID.\n",
    "\n",
    "**speed** - желаемая скорость средней точки робота.\n",
    "\n",
    "**target_angle** - это угол, который мы хотим сохранить.\n",
    "\n",
    "**sleep_time** - это сколько секунд мы ожидаем при каждом прохождении цикла. Это нужно для того, чтобы дать роботу возможность отреагировать на новые настройки двигателя. Это должно быть что-то небольшое, например 0,01 (10 мс).\n",
    "\n",
    "**follow_for** вызывается, чтобы определить, следует ли нам продолжать следовать желаемому углу или остановиться. Эта функция будет передана *self* (текущему объекту *Move Tank*). Поддерживаемые в настоящее время опции: **follow_for_forever**, **follow_for_ms**.\n",
    "\n",
    "****kwargs** будут переданы в функцию **follow_for**."
   ]
  },
  {
   "cell_type": "markdown",
   "metadata": {},
   "source": [
    "##### Пример"
   ]
  },
  {
   "cell_type": "code",
   "execution_count": null,
   "metadata": {},
   "outputs": [],
   "source": [
    "#!/usr/bin/env python3\n",
    "from ev3dev2.motor import (OUTPUT_A, OUTPUT_B, FollowGyroAngleErrorTooFast,\n",
    "                           MoveTank, SpeedPercent, follow_for_ms)\n",
    "from ev3dev2.sensor.lego import GyroSensor\n",
    "\n",
    "# Инициализируем моторы\n",
    "tank = MoveTank(OUTPUT_A, OUTPUT_B)\n",
    "\n",
    "# Инициализируем гироскоп\n",
    "tank.gyro = GyroSensor()\n",
    "\n",
    "# Калибруем гироскоп для устранений дрейфа и установки текущего угла как 0\n",
    "tank.gyro.calibrate()\n",
    "\n",
    "try:\n",
    "\n",
    "    # Следуем заданном углу на протяжении 4500 мс\n",
    "    tank.follow_gyro_angle(\n",
    "        kp=11.3, ki=0.05, kd=3.2,\n",
    "        speed=SpeedPercent(30),\n",
    "        target_angle=0,\n",
    "        follow_for=follow_for_ms,\n",
    "        ms=4500\n",
    "    )\n",
    "except FollowGyroAngleErrorTooFast:\n",
    "    tank.stop()\n",
    "    raise"
   ]
  },
  {
   "cell_type": "markdown",
   "metadata": {},
   "source": [
    "#### turn_degrees *(speed, target_angle, brake=True, error_margin=2, sleep_time=0.01)* *"
   ]
  },
  {
   "cell_type": "markdown",
   "metadata": {},
   "source": [
    "Использует датчик гироскопа для поворота на месте на **target_angle** угол."
   ]
  },
  {
   "cell_type": "markdown",
   "metadata": {},
   "source": [
    "**speed** - желаемая скорость средней точки робота.\n",
    "\n",
    "**target_angle** - это угол, на который мы хотим повернуть.\n",
    "\n",
    "**brake** - останавливает робота при достижении заданного угла.\n",
    "\n",
    "**error_margin** - это порог +/- угла, позволяющий контролировать, насколько точным должен быть поворот.\n",
    "\n",
    "**sleep_time** - это сколько секунд мы ожидаем при каждом прохождении цикла. Это нужно для того, чтобы дать роботу возможность отреагировать на новые настройки двигателя. Это должно быть что-то небольшое, например 0,01 (10 мс)."
   ]
  },
  {
   "cell_type": "markdown",
   "metadata": {},
   "source": [
    "##### Пример"
   ]
  },
  {
   "cell_type": "code",
   "execution_count": null,
   "metadata": {},
   "outputs": [],
   "source": [
    "from ev3dev2.motor import OUTPUT_A, OUTPUT_B, MoveTank, SpeedPercent\n",
    "from ev3dev2.sensor.lego import GyroSensor\n",
    "\n",
    "tank = MoveTank(OUTPUT_A, OUTPUT_B)\n",
    "\n",
    "# Инициализируем гироскоп\n",
    "tank.gyro = GyroSensor()\n",
    "\n",
    "# Калибруем гироскоп для устранений дрейфа и установки текущего угла как 0\n",
    "tank.gyro.calibrate()\n",
    "\n",
    "# Поворот на 30 градусов\n",
    "tank.turn_degrees(\n",
    "    speed=SpeedPercent(5),\n",
    "    target_angle=30\n",
    ")"
   ]
  },
  {
   "cell_type": "markdown",
   "metadata": {},
   "source": [
    "#### turn_right *(speed, degrees, brake=True, error_margin=2, sleep_time=0.01)* *"
   ]
  },
  {
   "cell_type": "markdown",
   "metadata": {},
   "source": [
    "Поворачивает робота по часовой стрелке на месте на заданное количество градусов."
   ]
  },
  {
   "cell_type": "markdown",
   "metadata": {},
   "source": [
    "#### turn_left *(speed, degrees, brake=True, error_margin=2, sleep_time=0.01)* *"
   ]
  },
  {
   "cell_type": "markdown",
   "metadata": {},
   "source": [
    "Поворачивает робота против часовой стрелки на месте на заданное количество градусов."
   ]
  },
  {
   "cell_type": "markdown",
   "metadata": {},
   "source": [
    "### MoveSteering _(left_motor_port, right_motor_port, desc=None, motor_class=<class 'ev3dev2.motor.LargeMotor'>)_"
   ]
  },
  {
   "cell_type": "markdown",
   "metadata": {},
   "source": [
    "Управляет двумя двигателями на основе значения **рулевого управления _(steering value)_** и **скорости**. Немного сложнее объяснить значение этих параметров по сравнению с параметрами **MoveTank**. **Значение рулевого управления** определяет траекторию движения робота и может принимать любое значение **в диапазоне от -100 до +100**.\n",
    "\n",
    "- -100 означает поворот налево на месте;\n",
    "\n",
    "- -50 означает поворот налево без поворота левого колеса;\n",
    "\n",
    "- 0 означает движение прямо;\n",
    "\n",
    "- +50 означает поворот направо без поворота правого колеса;\n",
    "\n",
    "- +100 означает поворот направо на месте."
   ]
  },
  {
   "cell_type": "markdown",
   "metadata": {},
   "source": [
    "Значение скорости относится к скорости более быстрого колеса (иногда колеса могут быть одинаково быстрыми, например, при рулевом управлении = 0). Скорость более медленного колеса рассчитывается автоматически на основе значений рулевого управления и скорости."
   ]
  },
  {
   "cell_type": "markdown",
   "metadata": {},
   "source": [
    "Следующая таблица может помочь понять взаимосвязь между **MoveTank** и **MoveSteering**. Он предназначен для того, чтобы показать, какие значения **left_speed** и **right_speed** (параметры **MoveTank**) соответствуют всем возможным значениям **рулевого управления** и значению **скорости**, равному 40 *(speed=40)* (параметры **MoveSteering**).\n",
    "\n",
    "<img src=\"images/motors/SteeringValues.png\" alt=\"SteeringValues\">\n",
    "\n",
    "- При всех значениях **рулевого управления** *(от -100 до +100)* всегда имеется по крайней мере один двигатель с частотой вращения, равной значению **скорости** 40.\n",
    "\n",
    "- При **рулевом управлении=0** отмечаем, что **left_speed** и **right_speed** **равны скорости**, которая равна 40.\n",
    "\n",
    "- При **рулевом управлении=25** отмечаем, что **left_speed=40** и **right_speed=20**.\n",
    "\n",
    "- При значении **рулевого управления=50** отмечаем, что **левая скорость=40**, а **правая скорость=0**.\n",
    "\n",
    "- При значении **рулевого управления=100** отмечаем, что **левая скорость=40**, а **правая скорость=-40**."
   ]
  },
  {
   "cell_type": "markdown",
   "metadata": {},
   "source": [
    "#### on_for_rotations *(steering, speed, rotations, brake=True, block=True)*"
   ]
  },
  {
   "cell_type": "markdown",
   "metadata": {},
   "source": [
    "Вращает двигатели в соответствии с прилагаемым **рулевым управлением**.\n",
    "\n",
    "Расстояние, которое пройдет каждый двигатель, соответствует правилам *MoveTank.on_for_rotations()*."
   ]
  },
  {
   "cell_type": "markdown",
   "metadata": {},
   "source": [
    "##### Пример"
   ]
  },
  {
   "cell_type": "code",
   "execution_count": null,
   "metadata": {},
   "outputs": [],
   "source": [
    "#!/usr/bin/env python3\n",
    "import time\n",
    "\n",
    "from ev3dev2.motor import MoveSteering, OUTPUT_A, OUTPUT_B\n",
    "\n",
    "steering_pair = MoveSteering(OUTPUT_A, OUTPUT_B)\n",
    "\n",
    "print(\"3 rotations\")\n",
    "steering_pair.on_for_rotations(0, 50, 3)\n",
    "time.sleep(1)"
   ]
  },
  {
   "cell_type": "markdown",
   "metadata": {},
   "source": [
    "#### on_for_degrees *(left_speed, right_speed, degrees, brake=True, block=True)*"
   ]
  },
  {
   "cell_type": "markdown",
   "metadata": {},
   "source": [
    "Вращает двигатели в соответствии с прилагаемым **рулевым управлением**.\n",
    "\n",
    "Расстояние, которое пройдет каждый двигатель, соответствует правилам *MoveTank.on_for_degrees()*."
   ]
  },
  {
   "cell_type": "markdown",
   "metadata": {},
   "source": [
    "##### Пример"
   ]
  },
  {
   "cell_type": "code",
   "execution_count": null,
   "metadata": {},
   "outputs": [],
   "source": [
    "#!/usr/bin/env python3\n",
    "import time\n",
    "\n",
    "from ev3dev2.motor import MoveSteering, OUTPUT_A, OUTPUT_B\n",
    "\n",
    "steering_pair = MoveSteering(OUTPUT_A, OUTPUT_B)\n",
    "\n",
    "print(\"90 degrees\")\n",
    "steering_pair.on_for_degrees(0, 50, 90)\n",
    "time.sleep(1)"
   ]
  },
  {
   "cell_type": "markdown",
   "metadata": {},
   "source": [
    "#### on_for_seconds *(left_speed, right_speed, seconds, brake=True, block=True)*"
   ]
  },
  {
   "cell_type": "markdown",
   "metadata": {},
   "source": [
    "Вращает двигатели в соответствии с прилагаемым **рулевым управлением** в течение заданного количества **секунд**."
   ]
  },
  {
   "cell_type": "markdown",
   "metadata": {},
   "source": [
    "##### Пример"
   ]
  },
  {
   "cell_type": "code",
   "execution_count": null,
   "metadata": {},
   "outputs": [],
   "source": [
    "#!/usr/bin/env python3\n",
    "import time\n",
    "\n",
    "from ev3dev2.motor import MoveSteering, OUTPUT_A, OUTPUT_B\n",
    "\n",
    "steering_pair = MoveSteering(OUTPUT_A, OUTPUT_B)\n",
    "\n",
    "print(\"3 seconds\")\n",
    "steering_pair.on_for_seconds(50, 50, 3)\n",
    "time.sleep(1)"
   ]
  },
  {
   "cell_type": "markdown",
   "metadata": {},
   "source": [
    "#### on *(left_speed, right_speed)*"
   ]
  },
  {
   "cell_type": "markdown",
   "metadata": {},
   "source": [
    "Начинает вращать двигатели в соответствии с **рулевым управлением** и **скоростью** вечно."
   ]
  },
  {
   "cell_type": "markdown",
   "metadata": {},
   "source": [
    "##### Пример"
   ]
  },
  {
   "cell_type": "code",
   "execution_count": null,
   "metadata": {},
   "outputs": [],
   "source": [
    "#!/usr/bin/env python3\n",
    "import time\n",
    "\n",
    "from ev3dev2.motor import MoveSteering, OUTPUT_A, OUTPUT_B\n",
    "\n",
    "steering_pair = MoveSteering(OUTPUT_A, OUTPUT_B)\n",
    "\n",
    "print(\"Forever\")\n",
    "steering_pair.on(0, 50)\n",
    "time.sleep(10)\n",
    "steering_pair.off()"
   ]
  },
  {
   "cell_type": "markdown",
   "metadata": {},
   "source": [
    "## Задание"
   ]
  },
  {
   "cell_type": "markdown",
   "metadata": {},
   "source": [
    "1. Проехать по периметру стола-стенда *(244-122 мм)*.\n",
    "2. Перед заездом указать количество кругов, которое проедет робот, а так же скорость, используя кнопки.\n",
    "3. На пути появляются препядствия на заранее известном месте и в течение маршрута не меняются. К предыдущему заданию добавляется указание с какой стороны будет препядствие (справа/слева)."
   ]
  },
  {
   "cell_type": "markdown",
   "metadata": {},
   "source": [
    "### Примечание"
   ]
  },
  {
   "cell_type": "markdown",
   "metadata": {},
   "source": [
    "Задание может меняться по усмотрению преподавателя."
   ]
  }
 ],
 "metadata": {
  "kernelspec": {
   "display_name": "ev3dev",
   "language": "python",
   "name": "python3"
  },
  "language_info": {
   "name": "python",
   "version": "3.10.12"
  }
 },
 "nbformat": 4,
 "nbformat_minor": 2
}
