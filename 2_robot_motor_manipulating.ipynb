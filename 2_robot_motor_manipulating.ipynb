{
 "cells": [
  {
   "cell_type": "markdown",
   "metadata": {},
   "source": [
    "# Управление моторами/роботом (Часть 1)"
   ]
  },
  {
   "cell_type": "markdown",
   "metadata": {},
   "source": [
    "## Управление одним мотором"
   ]
  },
  {
   "cell_type": "markdown",
   "metadata": {},
   "source": [
    "Большинство методов, которые запускают двигатели, принимают аргумент скорости. Скорость - это целое число, представляющее процент от номинальной максимальной скорости двигателя. Например, если вы установите скорость на 50, то двигатель будет работать на 50% от номинальной максимальной скорости (для функций, управляющих двумя двигателями, скорость относится к более быстрому двигателю).\n",
    "\n",
    "- Номинальная максимальная скорость **большого** двигателя Lego EV3 составляет **1050 градусов в секунду**;\n",
    "\n",
    "- Номинальная максимальная скорость **среднего** двигателя Lego EV3 составляет **1560 градусов в секунду**;\n",
    "\n",
    "- Двигатели, как правило, не способны надежно и точно достигать своей номинальной максимальной скорости, поэтому **не следует использовать значения скорости, превышающие 90**."
   ]
  },
  {
   "cell_type": "markdown",
   "metadata": {},
   "source": [
    "### Текущие значения двигателя"
   ]
  },
  {
   "cell_type": "markdown",
   "metadata": {},
   "source": [
    "#### position"
   ]
  },
  {
   "cell_type": "markdown",
   "metadata": {},
   "source": [
    "Возвращает текущее положение двигателя в импульсах поворотного энкодера. Когда двигатель вращается по часовой стрелке, положение увеличивается. Аналогично, вращение против часовой стрелки приводит к уменьшению положения."
   ]
  },
  {
   "cell_type": "markdown",
   "metadata": {},
   "source": [
    "##### Пример"
   ]
  },
  {
   "cell_type": "code",
   "execution_count": null,
   "metadata": {},
   "outputs": [],
   "source": [
    "#!/usr/bin/env python3\n",
    "import time\n",
    "\n",
    "from ev3dev2.motor import LargeMotor, OUTPUT_A\n",
    "\n",
    "lm = LargeMotor(OUTPUT_A)\n",
    "\n",
    "print(\"Getting position\")\n",
    "time.sleep(1)\n",
    "while True:\n",
    "    print(lm.position)\n",
    "    time.sleep(0.01)"
   ]
  },
  {
   "cell_type": "markdown",
   "metadata": {},
   "source": [
    "#### speed"
   ]
  },
  {
   "cell_type": "markdown",
   "metadata": {},
   "source": [
    "Возвращает текущую частоту вращения двигателя в градусах в секунду."
   ]
  },
  {
   "cell_type": "markdown",
   "metadata": {},
   "source": [
    "##### Пример"
   ]
  },
  {
   "cell_type": "code",
   "execution_count": null,
   "metadata": {},
   "outputs": [],
   "source": [
    "#!/usr/bin/env python3\n",
    "import time\n",
    "\n",
    "from ev3dev2.motor import LargeMotor, OUTPUT_A\n",
    "\n",
    "lm = LargeMotor(OUTPUT_A)\n",
    "\n",
    "print(\"Getting speed\")\n",
    "while True:\n",
    "    print(lm.speed)\n",
    "    time.sleep(0.01)"
   ]
  },
  {
   "cell_type": "markdown",
   "metadata": {},
   "source": [
    "#### state"
   ]
  },
  {
   "cell_type": "markdown",
   "metadata": {},
   "source": [
    "Возвращает текущее состояние двигателя. Возможны следующие состояния: `running`, `ramping`, `holding`, `overloaded` and `stalled`."
   ]
  },
  {
   "cell_type": "markdown",
   "metadata": {},
   "source": [
    "##### Пример"
   ]
  },
  {
   "cell_type": "code",
   "execution_count": null,
   "metadata": {},
   "outputs": [],
   "source": [
    "#!/usr/bin/env python3\n",
    "import time\n",
    "\n",
    "from ev3dev2.motor import LargeMotor, OUTPUT_A\n",
    "\n",
    "lm = LargeMotor(OUTPUT_A)\n",
    "\n",
    "lm.on_for_seconds(50, 10, block=False)\n",
    "\n",
    "print(\"Getting state\")\n",
    "while True:\n",
    "    print(lm.state)\n",
    "    time.sleep(0.01)"
   ]
  },
  {
   "cell_type": "markdown",
   "metadata": {},
   "source": [
    "#### block"
   ]
  },
  {
   "cell_type": "markdown",
   "metadata": {},
   "source": [
    "**Блокирование** программы означает приостановку выполнения программы до завершения текущей команды. Многие команды двигателя имеют аргумент **block**, и почти в каждом случае **по умолчанию block=True**. Исключением является функция **on()**, для которой **по умолчанию block=False**."
   ]
  },
  {
   "cell_type": "markdown",
   "metadata": {},
   "source": [
    "#### brake"
   ]
  },
  {
   "cell_type": "markdown",
   "metadata": {},
   "source": [
    "**brake** - это логический параметр, что означает, что он может быть либо **True**, либо **False**. Если он равен True, то, как только двигатель завершит свое движение, двигатель будет активно пытаться удерживать двигатель в фиксированном положении. Если значение brake равно False, то, как только двигатель завершит свое движение, он постепенно остановится, замедляясь только за счет трения. по умолчанию значение brake всегда равно True."
   ]
  },
  {
   "cell_type": "markdown",
   "metadata": {},
   "source": [
    "### Функции *on* для управления одним двигателем"
   ]
  },
  {
   "cell_type": "markdown",
   "metadata": {},
   "source": [
    "Есть возможность заставлять вращаться двигатель с заданной скоростью следующими способами:"
   ]
  },
  {
   "cell_type": "markdown",
   "metadata": {},
   "source": [
    "#### На заданное количество вращений: on_for_rotations _(speed, rotations, brake=True, block=True)_"
   ]
  },
  {
   "cell_type": "markdown",
   "metadata": {},
   "source": [
    "Вращает двигатель с заданной скоростью на переданное количество вращений."
   ]
  },
  {
   "cell_type": "markdown",
   "metadata": {},
   "source": [
    "##### Пример"
   ]
  },
  {
   "cell_type": "code",
   "execution_count": null,
   "metadata": {},
   "outputs": [],
   "source": [
    "#!/usr/bin/env python3\n",
    "import time\n",
    "\n",
    "from ev3dev2.motor import LargeMotor, OUTPUT_A\n",
    "\n",
    "lm = LargeMotor(OUTPUT_A)\n",
    "\n",
    "print(\"3 rotations\")\n",
    "lm.on_for_rotations(50, 3)\n",
    "time.sleep(1)"
   ]
  },
  {
   "cell_type": "markdown",
   "metadata": {},
   "source": [
    "#### На заданное время: on_for_seconds _(speed, seconds, brake=True, block=True)_"
   ]
  },
  {
   "cell_type": "markdown",
   "metadata": {},
   "source": [
    "Вращает двигатель с заданной скоростью на переданное количество секунд."
   ]
  },
  {
   "cell_type": "markdown",
   "metadata": {},
   "source": [
    "##### Пример"
   ]
  },
  {
   "cell_type": "code",
   "execution_count": null,
   "metadata": {},
   "outputs": [],
   "source": [
    "#!/usr/bin/env python3\n",
    "import time\n",
    "\n",
    "from ev3dev2.motor import LargeMotor, OUTPUT_A\n",
    "\n",
    "lm = LargeMotor(OUTPUT_A)\n",
    "\n",
    "print(\"3 seconds\")\n",
    "lm.on_for_seconds(50, 3)\n",
    "time.sleep(1)"
   ]
  },
  {
   "cell_type": "markdown",
   "metadata": {},
   "source": [
    "#### На заданное количество градусов: on_for_degrees _(speed, degrees, brake=True, block=True)_"
   ]
  },
  {
   "cell_type": "markdown",
   "metadata": {},
   "source": [
    "Вращает двигатель с заданной скоростью на переданное количество градусов."
   ]
  },
  {
   "cell_type": "markdown",
   "metadata": {},
   "source": [
    "##### Пример"
   ]
  },
  {
   "cell_type": "code",
   "execution_count": null,
   "metadata": {},
   "outputs": [],
   "source": [
    "#!/usr/bin/env python3\n",
    "import time\n",
    "\n",
    "from ev3dev2.motor import LargeMotor, OUTPUT_A\n",
    "\n",
    "lm = LargeMotor(OUTPUT_A)\n",
    "\n",
    "print(\"90 degrees\")\n",
    "lm.on_for_degrees(50, 90)\n",
    "time.sleep(1)"
   ]
  },
  {
   "cell_type": "markdown",
   "metadata": {},
   "source": [
    "#### На заданную позицию: on_to_position _(speed, degrees, brake=True, block=True)_"
   ]
  },
  {
   "cell_type": "markdown",
   "metadata": {},
   "source": [
    "Вращает двигатель с заданной скоростью на переданную позицию."
   ]
  },
  {
   "cell_type": "markdown",
   "metadata": {},
   "source": [
    "##### Пример"
   ]
  },
  {
   "cell_type": "code",
   "execution_count": null,
   "metadata": {},
   "outputs": [],
   "source": [
    "#!/usr/bin/env python3\n",
    "import time\n",
    "\n",
    "from ev3dev2.motor import LargeMotor, OUTPUT_A\n",
    "\n",
    "lm = LargeMotor(OUTPUT_A)\n",
    "\n",
    "# 90 degree rotation\n",
    "print(\"90 degrees rotation\")\n",
    "lm.on_for_degrees(50, 90)\n",
    "time.sleep(1)\n",
    "\n",
    "# Return to 0 degrees\n",
    "print(\"return to 0 degrees\")\n",
    "lm.on_to_position(50, 0)\n",
    "time.sleep(1)"
   ]
  },
  {
   "cell_type": "markdown",
   "metadata": {},
   "source": [
    "#### Вечное вращение: on _(speed, brake=True, block=False)_"
   ]
  },
  {
   "cell_type": "markdown",
   "metadata": {},
   "source": [
    "Вращает двигатель с заданной скоростью бесконечно."
   ]
  },
  {
   "cell_type": "markdown",
   "metadata": {},
   "source": [
    "##### Пример"
   ]
  },
  {
   "cell_type": "code",
   "execution_count": null,
   "metadata": {},
   "outputs": [],
   "source": [
    "#!/usr/bin/env python3\n",
    "import time\n",
    "\n",
    "from ev3dev2.motor import LargeMotor, OUTPUT_A\n",
    "\n",
    "lm = LargeMotor(OUTPUT_A)\n",
    "\n",
    "print(\"Forever\")\n",
    "lm.on(50)\n",
    "time.sleep(10)\n",
    "lm.off()"
   ]
  },
  {
   "cell_type": "markdown",
   "metadata": {},
   "source": [
    "#### Вращение до остановки: wait_until_not_moving _(timeout=None)_"
   ]
  },
  {
   "cell_type": "markdown",
   "metadata": {},
   "source": [
    "Вращает двигатель до тех пор, пока он не заблокирован. Так же есть возможность завершить досрочно по достижении тайм-аута (в миллисекундах).\n",
    "\n",
    "Возвращает значение True, если условие выполнено, и значение False, если истек тайм-аут."
   ]
  },
  {
   "cell_type": "markdown",
   "metadata": {},
   "source": [
    "##### Пример"
   ]
  },
  {
   "cell_type": "code",
   "execution_count": null,
   "metadata": {},
   "outputs": [],
   "source": [
    "#!/usr/bin/env python3\n",
    "from ev3dev2.motor import LargeMotor, OUTPUT_A\n",
    "\n",
    "lm = LargeMotor(OUTPUT_A)\n",
    "\n",
    "print(\"Until stop\")\n",
    "lm.on(50)\n",
    "lm.wait_until_not_moving()"
   ]
  },
  {
   "cell_type": "markdown",
   "metadata": {},
   "source": [
    "#### Задание скорости"
   ]
  },
  {
   "cell_type": "markdown",
   "metadata": {},
   "source": [
    "Как указывалось ранее, **скорость** представляет собой **процент от номинальной максимальной частоты вращения двигателя**. Следовательно, если для большого двигателя и среднего двигателя установлено значение **speed=50**, то они будут работать с разной скоростью (в градусах в секунду). Большой двигатель будет работать со скоростью 50% x 1050 = 525 градусов в секунду, а средний двигатель будет работать со скоростью 50% x 1560 = 780 градусов в секунду.\n",
    "\n",
    "Также можно указать скорость в **градусах в секунду** или **оборотах в секунду**, **градусах в минуту** или **оборотах в минуту** - во всех этих случаях большой и средний двигатели будут вращаться с одинаковой скоростью, если вы зададите им одинаковое значение, например, 100 градусов в секунду. Способ, благодаря которому это работает, заключается в том, что вы вводите желаемое значение, например, в градусах в секунду, и функция преобразует его в соответствующее значение скорости. Например, **SpeedDPS()** преобразует значение в градусах в секунду в соответствующее значение скорости."
   ]
  },
  {
   "cell_type": "markdown",
   "metadata": {},
   "source": [
    "##### Пример"
   ]
  },
  {
   "cell_type": "code",
   "execution_count": null,
   "metadata": {},
   "outputs": [],
   "source": [
    "#!/usr/bin/env python3\n",
    "\n",
    "from ev3dev2.motor import LargeMotor, OUTPUT_A\n",
    "from ev3dev2.motor import SpeedDPS, SpeedRPM, SpeedRPS, SpeedDPM\n",
    "import time\n",
    "\n",
    "lm = LargeMotor(OUTPUT_A)\n",
    "\n",
    "'''\n",
    "Двигатель будет работать со скоростью 500 градусов в секунду (DPS).\n",
    "Вы должны услышать, что двигатель работает\n",
    "немного медленнее, чем раньше.\n",
    "'''\n",
    "\n",
    "lm.on_for_seconds(speed=SpeedDPS(500), seconds=3)\n",
    "\n",
    "time.sleep(1)\n",
    "\n",
    "# 36000 градусов в минуту (DPM) (редко полезно!)\n",
    "\n",
    "lm.on_for_seconds(speed=SpeedDPM(36000), seconds=3)\n",
    "\n",
    "time.sleep(1)\n",
    "\n",
    "# 2 оборота в секунду (RPS)\n",
    "\n",
    "lm.on_for_seconds(speed=SpeedRPS(2), seconds=3)\n",
    "\n",
    "time.sleep(1)\n",
    "\n",
    "# 100 оборотов в минуту (RPM)\n",
    "\n",
    "lm.on_for_seconds(speed=SpeedRPM(100), seconds=3)"
   ]
  },
  {
   "cell_type": "markdown",
   "metadata": {},
   "source": [
    "## Задание"
   ]
  },
  {
   "cell_type": "markdown",
   "metadata": {},
   "source": [
    "1. Проехать **ровно** по траектории в виде буквы **Г**.\n",
    "\n",
    "2. Проехать **ровно** по траектории в виде буквы **Н**.\n",
    "\n",
    "3. Проехать **ровно** по траектории в виде цифры **8** *(в цифровом шрифте)*."
   ]
  }
 ],
 "metadata": {
  "kernelspec": {
   "display_name": "ev3dev",
   "language": "python",
   "name": "python3"
  },
  "language_info": {
   "name": "python",
   "version": "3.10.12"
  }
 },
 "nbformat": 4,
 "nbformat_minor": 2
}
